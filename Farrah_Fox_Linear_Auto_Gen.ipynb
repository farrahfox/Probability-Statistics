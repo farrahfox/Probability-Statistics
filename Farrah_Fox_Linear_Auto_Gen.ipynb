{
  "nbformat": 4,
  "nbformat_minor": 0,
  "metadata": {
    "colab": {
      "provenance": [],
      "include_colab_link": true
    },
    "kernelspec": {
      "name": "python3",
      "display_name": "Python 3"
    },
    "language_info": {
      "name": "python"
    },
    "accelerator": "GPU"
  },
  "cells": [
    {
      "cell_type": "markdown",
      "metadata": {
        "id": "view-in-github",
        "colab_type": "text"
      },
      "source": [
        "<a href=\"https://colab.research.google.com/github/farrahfox/Probability-Statistics/blob/main/Farrah_Fox_Linear_Auto_Gen.ipynb\" target=\"_parent\"><img src=\"https://colab.research.google.com/assets/colab-badge.svg\" alt=\"Open In Colab\"/></a>"
      ]
    },
    {
      "cell_type": "markdown",
      "source": [
        "## Setup"
      ],
      "metadata": {
        "id": "PQsLStfxfRrO"
      }
    },
    {
      "cell_type": "markdown",
      "source": [
        "### Imports"
      ],
      "metadata": {
        "id": "X2noEVRFmHTi"
      }
    },
    {
      "cell_type": "code",
      "source": [
        "# importing libraries"
      ],
      "metadata": {
        "id": "N89UQy1DjI_I"
      },
      "execution_count": 2,
      "outputs": []
    },
    {
      "cell_type": "code",
      "source": [
        "import numpy as np\n",
        "import matplotlib.pyplot as plt\n",
        "import urllib.request\n",
        "from PIL import Image\n",
        "from imageio import *\n",
        "import torch\n",
        "from skimage.transform import resize\n",
        "from mpl_toolkits.axes_grid1.axes_rgb import make_rgb_axes, RGBAxes\n",
        "from torchvision.models import *\n",
        "from torchvision.datasets import MNIST,KMNIST,FashionMNIST\n",
        "from skimage.util import montage"
      ],
      "metadata": {
        "id": "aGu2hYn5VgKS"
      },
      "execution_count": 3,
      "outputs": []
    },
    {
      "cell_type": "code",
      "source": [
        "# importing more libraries"
      ],
      "metadata": {
        "id": "HEbXjqK4jRya"
      },
      "execution_count": 4,
      "outputs": []
    },
    {
      "cell_type": "code",
      "source": [
        "!pip install wandb\n",
        "import wandb as wb"
      ],
      "metadata": {
        "id": "O1xRGxv7AfoZ",
        "colab": {
          "base_uri": "https://localhost:8080/"
        },
        "outputId": "1d91ea49-1338-4e55-f3c1-57225d2496f0"
      },
      "execution_count": 5,
      "outputs": [
        {
          "output_type": "stream",
          "name": "stdout",
          "text": [
            "Collecting wandb\n",
            "  Downloading wandb-0.16.6-py3-none-any.whl (2.2 MB)\n",
            "\u001b[2K     \u001b[90m━━━━━━━━━━━━━━━━━━━━━━━━━━━━━━━━━━━━━━━━\u001b[0m \u001b[32m2.2/2.2 MB\u001b[0m \u001b[31m36.8 MB/s\u001b[0m eta \u001b[36m0:00:00\u001b[0m\n",
            "\u001b[?25hRequirement already satisfied: Click!=8.0.0,>=7.1 in /usr/local/lib/python3.10/dist-packages (from wandb) (8.1.7)\n",
            "Collecting GitPython!=3.1.29,>=1.0.0 (from wandb)\n",
            "  Downloading GitPython-3.1.43-py3-none-any.whl (207 kB)\n",
            "\u001b[2K     \u001b[90m━━━━━━━━━━━━━━━━━━━━━━━━━━━━━━━━━━━━━━━━\u001b[0m \u001b[32m207.3/207.3 kB\u001b[0m \u001b[31m24.2 MB/s\u001b[0m eta \u001b[36m0:00:00\u001b[0m\n",
            "\u001b[?25hRequirement already satisfied: requests<3,>=2.0.0 in /usr/local/lib/python3.10/dist-packages (from wandb) (2.31.0)\n",
            "Requirement already satisfied: psutil>=5.0.0 in /usr/local/lib/python3.10/dist-packages (from wandb) (5.9.5)\n",
            "Collecting sentry-sdk>=1.0.0 (from wandb)\n",
            "  Downloading sentry_sdk-1.45.0-py2.py3-none-any.whl (267 kB)\n",
            "\u001b[2K     \u001b[90m━━━━━━━━━━━━━━━━━━━━━━━━━━━━━━━━━━━━━━━━\u001b[0m \u001b[32m267.1/267.1 kB\u001b[0m \u001b[31m35.9 MB/s\u001b[0m eta \u001b[36m0:00:00\u001b[0m\n",
            "\u001b[?25hCollecting docker-pycreds>=0.4.0 (from wandb)\n",
            "  Downloading docker_pycreds-0.4.0-py2.py3-none-any.whl (9.0 kB)\n",
            "Requirement already satisfied: PyYAML in /usr/local/lib/python3.10/dist-packages (from wandb) (6.0.1)\n",
            "Collecting setproctitle (from wandb)\n",
            "  Downloading setproctitle-1.3.3-cp310-cp310-manylinux_2_5_x86_64.manylinux1_x86_64.manylinux_2_17_x86_64.manylinux2014_x86_64.whl (30 kB)\n",
            "Requirement already satisfied: setuptools in /usr/local/lib/python3.10/dist-packages (from wandb) (67.7.2)\n",
            "Requirement already satisfied: appdirs>=1.4.3 in /usr/local/lib/python3.10/dist-packages (from wandb) (1.4.4)\n",
            "Requirement already satisfied: protobuf!=4.21.0,<5,>=3.19.0 in /usr/local/lib/python3.10/dist-packages (from wandb) (3.20.3)\n",
            "Requirement already satisfied: six>=1.4.0 in /usr/local/lib/python3.10/dist-packages (from docker-pycreds>=0.4.0->wandb) (1.16.0)\n",
            "Collecting gitdb<5,>=4.0.1 (from GitPython!=3.1.29,>=1.0.0->wandb)\n",
            "  Downloading gitdb-4.0.11-py3-none-any.whl (62 kB)\n",
            "\u001b[2K     \u001b[90m━━━━━━━━━━━━━━━━━━━━━━━━━━━━━━━━━━━━━━━━\u001b[0m \u001b[32m62.7/62.7 kB\u001b[0m \u001b[31m9.2 MB/s\u001b[0m eta \u001b[36m0:00:00\u001b[0m\n",
            "\u001b[?25hRequirement already satisfied: charset-normalizer<4,>=2 in /usr/local/lib/python3.10/dist-packages (from requests<3,>=2.0.0->wandb) (3.3.2)\n",
            "Requirement already satisfied: idna<4,>=2.5 in /usr/local/lib/python3.10/dist-packages (from requests<3,>=2.0.0->wandb) (3.7)\n",
            "Requirement already satisfied: urllib3<3,>=1.21.1 in /usr/local/lib/python3.10/dist-packages (from requests<3,>=2.0.0->wandb) (2.0.7)\n",
            "Requirement already satisfied: certifi>=2017.4.17 in /usr/local/lib/python3.10/dist-packages (from requests<3,>=2.0.0->wandb) (2024.2.2)\n",
            "Collecting smmap<6,>=3.0.1 (from gitdb<5,>=4.0.1->GitPython!=3.1.29,>=1.0.0->wandb)\n",
            "  Downloading smmap-5.0.1-py3-none-any.whl (24 kB)\n",
            "Installing collected packages: smmap, setproctitle, sentry-sdk, docker-pycreds, gitdb, GitPython, wandb\n",
            "Successfully installed GitPython-3.1.43 docker-pycreds-0.4.0 gitdb-4.0.11 sentry-sdk-1.45.0 setproctitle-1.3.3 smmap-5.0.1 wandb-0.16.6\n"
          ]
        }
      ]
    },
    {
      "cell_type": "code",
      "source": [
        "# Defines a function called plot that takes a single argument"
      ],
      "metadata": {
        "id": "oGK4nEtSjro4"
      },
      "execution_count": 6,
      "outputs": []
    },
    {
      "cell_type": "code",
      "metadata": {
        "id": "6DQxxGNl1E1o"
      },
      "source": [
        "def plot(x):\n",
        "    if type(x) == torch.Tensor :\n",
        "        x = x.cpu().detach().numpy()\n",
        "\n",
        "    fig, ax = plt.subplots()\n",
        "    im = ax.imshow(x, cmap = 'gray')\n",
        "    ax.axis('off')\n",
        "    fig.set_size_inches(5, 5)\n",
        "    plt.show()"
      ],
      "execution_count": 7,
      "outputs": []
    },
    {
      "cell_type": "code",
      "source": [
        "# defines a function to create a montage of images"
      ],
      "metadata": {
        "id": "JLLfQu-xkDsy"
      },
      "execution_count": 8,
      "outputs": []
    },
    {
      "cell_type": "code",
      "metadata": {
        "id": "wLcWTt76COK2"
      },
      "source": [
        "def montage_plot(x):\n",
        "    x = np.pad(x, pad_width=((0, 0), (1, 1), (1, 1)), mode='constant', constant_values=0)\n",
        "    plot(montage(x))"
      ],
      "execution_count": 9,
      "outputs": []
    },
    {
      "cell_type": "code",
      "source": [
        "# defining this function to get batches of data for training or testing your model"
      ],
      "metadata": {
        "id": "MJTMB6hykgwj"
      },
      "execution_count": 10,
      "outputs": []
    },
    {
      "cell_type": "code",
      "source": [
        "b = 1000\n",
        "\n",
        "def get_batch(mode):\n",
        "    if mode == \"train\":\n",
        "        r = np.random.randint(X.shape[0]-b)\n",
        "        x = X[r:r+b,:]\n",
        "        y = Y[r:r+b]\n",
        "    elif mode == \"test\":\n",
        "        r = np.random.randint(X_test.shape[0]-b)\n",
        "        x = X_test[r:r+b,:]\n",
        "        y = Y_test[r:r+b]\n",
        "    return x,y"
      ],
      "metadata": {
        "id": "NZaGcRW6Igar"
      },
      "execution_count": 11,
      "outputs": []
    },
    {
      "cell_type": "markdown",
      "source": [
        "\n",
        "## MNIST\n",
        "    "
      ],
      "metadata": {
        "id": "gkw9kmV4NyRo"
      }
    },
    {
      "cell_type": "markdown",
      "source": [
        "### Load Data"
      ],
      "metadata": {
        "id": "Dc8TF76WPY1e"
      }
    },
    {
      "cell_type": "code",
      "metadata": {
        "id": "mm7ZMYrVEdMX",
        "colab": {
          "base_uri": "https://localhost:8080/"
        },
        "outputId": "130b5969-210f-40ee-95bc-22dcb2ed5882"
      },
      "source": [
        "# #MNIST\n",
        "train_set = MNIST('./data', train=True, download=True)\n",
        "test_set  = MNIST('./data', train=False, download=True)\n",
        "\n",
        "#KMNIST\n",
        "# train_set = KMNIST('./data', train=True, download=True)\n",
        "# test_set =  KMNIST('./data', train=False, download=True)\n",
        "\n",
        "# Fashion MNIST\n",
        "# train_set = FashionMNIST('./data', train=True, download=True)\n",
        "# test_set =  FashionMNIST('./data', train=False, download=True)"
      ],
      "execution_count": 12,
      "outputs": [
        {
          "output_type": "stream",
          "name": "stdout",
          "text": [
            "Downloading http://yann.lecun.com/exdb/mnist/train-images-idx3-ubyte.gz\n",
            "Downloading http://yann.lecun.com/exdb/mnist/train-images-idx3-ubyte.gz to ./data/MNIST/raw/train-images-idx3-ubyte.gz\n"
          ]
        },
        {
          "output_type": "stream",
          "name": "stderr",
          "text": [
            "100%|██████████| 9912422/9912422 [00:00<00:00, 228218532.97it/s]"
          ]
        },
        {
          "output_type": "stream",
          "name": "stdout",
          "text": [
            "Extracting ./data/MNIST/raw/train-images-idx3-ubyte.gz to ./data/MNIST/raw\n"
          ]
        },
        {
          "output_type": "stream",
          "name": "stderr",
          "text": [
            "\n"
          ]
        },
        {
          "output_type": "stream",
          "name": "stdout",
          "text": [
            "\n",
            "Downloading http://yann.lecun.com/exdb/mnist/train-labels-idx1-ubyte.gz\n",
            "Downloading http://yann.lecun.com/exdb/mnist/train-labels-idx1-ubyte.gz to ./data/MNIST/raw/train-labels-idx1-ubyte.gz\n"
          ]
        },
        {
          "output_type": "stream",
          "name": "stderr",
          "text": [
            "100%|██████████| 28881/28881 [00:00<00:00, 115697892.86it/s]\n"
          ]
        },
        {
          "output_type": "stream",
          "name": "stdout",
          "text": [
            "Extracting ./data/MNIST/raw/train-labels-idx1-ubyte.gz to ./data/MNIST/raw\n",
            "\n",
            "Downloading http://yann.lecun.com/exdb/mnist/t10k-images-idx3-ubyte.gz\n",
            "Downloading http://yann.lecun.com/exdb/mnist/t10k-images-idx3-ubyte.gz to ./data/MNIST/raw/t10k-images-idx3-ubyte.gz\n"
          ]
        },
        {
          "output_type": "stream",
          "name": "stderr",
          "text": [
            "100%|██████████| 1648877/1648877 [00:00<00:00, 167735233.12it/s]"
          ]
        },
        {
          "output_type": "stream",
          "name": "stdout",
          "text": [
            "Extracting ./data/MNIST/raw/t10k-images-idx3-ubyte.gz to ./data/MNIST/raw\n",
            "\n",
            "Downloading http://yann.lecun.com/exdb/mnist/t10k-labels-idx1-ubyte.gz\n",
            "Downloading http://yann.lecun.com/exdb/mnist/t10k-labels-idx1-ubyte.gz to ./data/MNIST/raw/t10k-labels-idx1-ubyte.gz\n"
          ]
        },
        {
          "output_type": "stream",
          "name": "stderr",
          "text": [
            "\n",
            "100%|██████████| 4542/4542 [00:00<00:00, 5114235.91it/s]"
          ]
        },
        {
          "output_type": "stream",
          "name": "stdout",
          "text": [
            "Extracting ./data/MNIST/raw/t10k-labels-idx1-ubyte.gz to ./data/MNIST/raw\n",
            "\n"
          ]
        },
        {
          "output_type": "stream",
          "name": "stderr",
          "text": [
            "\n"
          ]
        }
      ]
    },
    {
      "cell_type": "code",
      "source": [
        "# setting variables equal to different test/train sets"
      ],
      "metadata": {
        "id": "rkkNl9Ikk2Mw"
      },
      "execution_count": 13,
      "outputs": []
    },
    {
      "cell_type": "code",
      "metadata": {
        "id": "Ols0HivADS6a"
      },
      "source": [
        "X = train_set.data.numpy()\n",
        "X_test = test_set.data.numpy()\n",
        "Y = train_set.targets.numpy()\n",
        "Y_test = test_set.targets.numpy()\n",
        "\n",
        "X = X[:,None,:,:]/255\n",
        "X_test = X_test[:,None,:,:]/255"
      ],
      "execution_count": 14,
      "outputs": []
    },
    {
      "cell_type": "code",
      "source": [
        "# obtaining the dimensions of variable 'X'"
      ],
      "metadata": {
        "id": "c1KuhFgilDXw"
      },
      "execution_count": 15,
      "outputs": []
    },
    {
      "cell_type": "code",
      "metadata": {
        "colab": {
          "base_uri": "https://localhost:8080/"
        },
        "id": "gfAjr0UBjgfs",
        "outputId": "111974d9-a050-44e8-e181-0c51e39b7920"
      },
      "source": [
        "X.shape"
      ],
      "execution_count": 16,
      "outputs": [
        {
          "output_type": "execute_result",
          "data": {
            "text/plain": [
              "(60000, 1, 28, 28)"
            ]
          },
          "metadata": {},
          "execution_count": 16
        }
      ]
    },
    {
      "cell_type": "code",
      "source": [
        "# accessing the value of 'Y' in the 50000th spot"
      ],
      "metadata": {
        "id": "rAqpJg_UlTKt"
      },
      "execution_count": 17,
      "outputs": []
    },
    {
      "cell_type": "code",
      "source": [
        "Y[50000]"
      ],
      "metadata": {
        "colab": {
          "base_uri": "https://localhost:8080/"
        },
        "id": "PZ0TWqL3zjGP",
        "outputId": "4554e1e8-1be5-4716-c884-eb48b74403fe"
      },
      "execution_count": 18,
      "outputs": [
        {
          "output_type": "execute_result",
          "data": {
            "text/plain": [
              "3"
            ]
          },
          "metadata": {},
          "execution_count": 18
        }
      ]
    },
    {
      "cell_type": "code",
      "source": [
        "# plots a 2D image from a 4D array"
      ],
      "metadata": {
        "id": "sWItdzeLlsCj"
      },
      "execution_count": 19,
      "outputs": []
    },
    {
      "cell_type": "code",
      "metadata": {
        "colab": {
          "base_uri": "https://localhost:8080/",
          "height": 422
        },
        "id": "Ye809_jCAAxr",
        "outputId": "ec98979d-7e9f-4a73-df14-9f68d5cb4e46"
      },
      "source": [
        "plot(X[50000,0,:,:])"
      ],
      "execution_count": 20,
      "outputs": [
        {
          "output_type": "display_data",
          "data": {
            "text/plain": [
              "<Figure size 500x500 with 1 Axes>"
            ],
            "image/png": "[encoded data removed]"
          },
          "metadata": {}
        }
      ]
    },
    {
      "cell_type": "code",
      "metadata": {
        "id": "evX7gb0YBzpe",
        "colab": {
          "base_uri": "https://localhost:8080/"
        },
        "outputId": "7e15890d-9e79-4113-b7db-9b28e16f5379"
      },
      "source": [
        "Y[100]"
      ],
      "execution_count": 21,
      "outputs": [
        {
          "output_type": "execute_result",
          "data": {
            "text/plain": [
              "5"
            ]
          },
          "metadata": {},
          "execution_count": 21
        }
      ]
    },
    {
      "cell_type": "code",
      "source": [
        "X.shape"
      ],
      "metadata": {
        "colab": {
          "base_uri": "https://localhost:8080/"
        },
        "id": "ZvRm1DjXzI91",
        "outputId": "3989323c-2b4f-4300-a241-35837a7dd4ac"
      },
      "execution_count": 22,
      "outputs": [
        {
          "output_type": "execute_result",
          "data": {
            "text/plain": [
              "(60000, 1, 28, 28)"
            ]
          },
          "metadata": {},
          "execution_count": 22
        }
      ]
    },
    {
      "cell_type": "code",
      "source": [
        "# selects a portion of X which consists of the first 25 elements along the first axis,\n",
        "# and then selects only the element at index 0 along\n",
        "# the second axis, while keeping all elements along the third and fourth axes.\n",
        "# Finally, .shape returns the shape of the resulting selection"
      ],
      "metadata": {
        "id": "gBgpT5F9oHQl"
      },
      "execution_count": 23,
      "outputs": []
    },
    {
      "cell_type": "code",
      "metadata": {
        "id": "b1ExpQONSaC_",
        "colab": {
          "base_uri": "https://localhost:8080/"
        },
        "outputId": "5d78b6a8-00e7-4662-8587-600269f994a9"
      },
      "source": [
        "X[0:25,0,:,:].shape"
      ],
      "execution_count": 24,
      "outputs": [
        {
          "output_type": "execute_result",
          "data": {
            "text/plain": [
              "(25, 28, 28)"
            ]
          },
          "metadata": {},
          "execution_count": 24
        }
      ]
    },
    {
      "cell_type": "code",
      "source": [
        "# displays a montage plot of the subset of images selected from indices 125 to 150 along the first axis of the array"
      ],
      "metadata": {
        "id": "XyQPgvv6oniw"
      },
      "execution_count": 25,
      "outputs": []
    },
    {
      "cell_type": "code",
      "metadata": {
        "id": "CHoMXjA6pWoa",
        "colab": {
          "base_uri": "https://localhost:8080/",
          "height": 422
        },
        "outputId": "ff76b601-425d-4e58-cadd-a53de5ee36a4"
      },
      "source": [
        "montage_plot(X[125:150,0,:,:])"
      ],
      "execution_count": 26,
      "outputs": [
        {
          "output_type": "display_data",
          "data": {
            "text/plain": [
              "<Figure size 500x500 with 1 Axes>"
            ],
            "image/png": "[encoded data removed]"
          },
          "metadata": {}
        }
      ]
    },
    {
      "cell_type": "code",
      "metadata": {
        "id": "fQPM_KQpD7Qd",
        "colab": {
          "base_uri": "https://localhost:8080/"
        },
        "outputId": "6f2d3078-a00b-4cf6-dd4c-59df393c48e9"
      },
      "source": [
        "X.shape[0]"
      ],
      "execution_count": 27,
      "outputs": [
        {
          "output_type": "execute_result",
          "data": {
            "text/plain": [
              "60000"
            ]
          },
          "metadata": {},
          "execution_count": 27
        }
      ]
    },
    {
      "cell_type": "code",
      "metadata": {
        "id": "QFqBciL5EPgM",
        "colab": {
          "base_uri": "https://localhost:8080/"
        },
        "outputId": "578d5f8c-9eaa-4b69-bf09-5dd8e1525c5f"
      },
      "source": [
        "X_test.shape"
      ],
      "execution_count": 28,
      "outputs": [
        {
          "output_type": "execute_result",
          "data": {
            "text/plain": [
              "(10000, 1, 28, 28)"
            ]
          },
          "metadata": {},
          "execution_count": 28
        }
      ]
    },
    {
      "cell_type": "code",
      "source": [
        "# returns the number of rows in array 'X'"
      ],
      "metadata": {
        "id": "JXehbyUXpEDe"
      },
      "execution_count": 29,
      "outputs": []
    },
    {
      "cell_type": "code",
      "metadata": {
        "id": "_eAq9FpWES_1",
        "colab": {
          "base_uri": "https://localhost:8080/"
        },
        "outputId": "4b4a437b-2417-4e97-efbd-fab2cd6b1ad7"
      },
      "source": [
        "X.shape[0]"
      ],
      "execution_count": 30,
      "outputs": [
        {
          "output_type": "execute_result",
          "data": {
            "text/plain": [
              "60000"
            ]
          },
          "metadata": {},
          "execution_count": 30
        }
      ]
    },
    {
      "cell_type": "code",
      "metadata": {
        "id": "zjqCYVv7EX1d",
        "colab": {
          "base_uri": "https://localhost:8080/"
        },
        "outputId": "71fc3d98-6b8a-40a2-e9e9-49d0ab06583a"
      },
      "source": [
        "X_test.shape[0]"
      ],
      "execution_count": 31,
      "outputs": [
        {
          "output_type": "execute_result",
          "data": {
            "text/plain": [
              "10000"
            ]
          },
          "metadata": {},
          "execution_count": 31
        }
      ]
    },
    {
      "cell_type": "code",
      "source": [
        "# defines a function that takes a numerical data array and returns a PyTorch tensor"
      ],
      "metadata": {
        "id": "QkkdbmDJpVnv"
      },
      "execution_count": 32,
      "outputs": []
    },
    {
      "cell_type": "code",
      "source": [
        "def GPU(data):\n",
        "    return torch.tensor(data, requires_grad=True, dtype=torch.float, device=torch.device('cuda'))\n",
        "\n",
        "# defines a function that converts input\n",
        "# data to a PyTorch tensor, sets it to float type, disables gradient calculation, and moves it to the GPU for processing\n",
        "def GPU_data(data):\n",
        "    return torch.tensor(data, requires_grad=False, dtype=torch.float, device=torch.device('cuda'))"
      ],
      "metadata": {
        "id": "PyV8c4cyPAWp"
      },
      "execution_count": 33,
      "outputs": []
    },
    {
      "cell_type": "code",
      "source": [
        "# setting each variable equal to the results of the function above"
      ],
      "metadata": {
        "id": "Mra9gnPnrkIl"
      },
      "execution_count": 34,
      "outputs": []
    },
    {
      "cell_type": "code",
      "metadata": {
        "id": "zBt4rsdIefV_"
      },
      "source": [
        "X = GPU_data(X)\n",
        "Y = GPU_data(Y)\n",
        "X_test = GPU_data(X_test)\n",
        "Y_test = GPU_data(Y_test)"
      ],
      "execution_count": 35,
      "outputs": []
    },
    {
      "cell_type": "code",
      "source": [
        "# reshapes the arrays so that each row contains 784 elements"
      ],
      "metadata": {
        "id": "AiP_Xlt4tfqk"
      },
      "execution_count": 36,
      "outputs": []
    },
    {
      "cell_type": "code",
      "source": [
        "X = X.reshape(X.shape[0],784)\n",
        "X_test = X_test.reshape(X_test.shape[0],784)"
      ],
      "metadata": {
        "id": "qd6QY2wJ3DPk"
      },
      "execution_count": 37,
      "outputs": []
    },
    {
      "cell_type": "code",
      "source": [
        "X.shape"
      ],
      "metadata": {
        "id": "MKUw3_YO39T5",
        "colab": {
          "base_uri": "https://localhost:8080/"
        },
        "outputId": "34fb31ae-96d4-4321-d7b2-15ba3e04132b"
      },
      "execution_count": 38,
      "outputs": [
        {
          "output_type": "execute_result",
          "data": {
            "text/plain": [
              "torch.Size([60000, 784])"
            ]
          },
          "metadata": {},
          "execution_count": 38
        }
      ]
    },
    {
      "cell_type": "markdown",
      "source": [
        "\n",
        "### Classifier\n"
      ],
      "metadata": {
        "id": "aqdMV6v-2o3h"
      }
    },
    {
      "cell_type": "code",
      "source": [
        "# loads a training batch into two separate variables"
      ],
      "metadata": {
        "id": "avtpeasqt9RF"
      },
      "execution_count": 39,
      "outputs": []
    },
    {
      "cell_type": "code",
      "metadata": {
        "id": "OqMKS4LqeBzy"
      },
      "source": [
        "x,y = get_batch('train')"
      ],
      "execution_count": 40,
      "outputs": []
    },
    {
      "cell_type": "code",
      "metadata": {
        "id": "NvewlRZCeB20",
        "colab": {
          "base_uri": "https://localhost:8080/"
        },
        "outputId": "ca817c5f-85dd-4c1d-9084-e3da82679515"
      },
      "source": [
        "x.shape"
      ],
      "execution_count": 41,
      "outputs": [
        {
          "output_type": "execute_result",
          "data": {
            "text/plain": [
              "torch.Size([1000, 784])"
            ]
          },
          "metadata": {},
          "execution_count": 41
        }
      ]
    },
    {
      "cell_type": "code",
      "source": [
        "# plots the first image from your dataset represented as a 28x28 pixel image"
      ],
      "metadata": {
        "id": "RbkoZ_oHvGCm"
      },
      "execution_count": 42,
      "outputs": []
    },
    {
      "cell_type": "code",
      "metadata": {
        "id": "Dfywj66KFh8Y",
        "colab": {
          "base_uri": "https://localhost:8080/",
          "height": 422
        },
        "outputId": "c4881b94-be9b-4b30-df51-37f55618c13f"
      },
      "source": [
        "plot(x[0].reshape(28,28))"
      ],
      "execution_count": 43,
      "outputs": [
        {
          "output_type": "display_data",
          "data": {
            "text/plain": [
              "<Figure size 500x500 with 1 Axes>"
            ],
            "image/png": "[encoded data removed]"
          },
          "metadata": {}
        }
      ]
    },
    {
      "cell_type": "code",
      "source": [
        "# plots the second image from your dataset represented as a 28x28 pixel image"
      ],
      "metadata": {
        "id": "2MMSRNgavw__"
      },
      "execution_count": 44,
      "outputs": []
    },
    {
      "cell_type": "code",
      "metadata": {
        "id": "ZsAhw-64HNJX",
        "colab": {
          "base_uri": "https://localhost:8080/",
          "height": 422
        },
        "outputId": "09125ca4-e345-478b-9a65-c14e47152951"
      },
      "source": [
        "plot(x[1].reshape(28,28))"
      ],
      "execution_count": 45,
      "outputs": [
        {
          "output_type": "display_data",
          "data": {
            "text/plain": [
              "<Figure size 500x500 with 1 Axes>"
            ],
            "image/png": "[encoded data removed]"
          },
          "metadata": {}
        }
      ]
    },
    {
      "cell_type": "code",
      "metadata": {
        "id": "JfIkv97VHRaH",
        "colab": {
          "base_uri": "https://localhost:8080/",
          "height": 422
        },
        "outputId": "08e9c2fe-6153-405a-8193-5c0ec21fe95f"
      },
      "source": [
        "plot(x[2].reshape(28,28))"
      ],
      "execution_count": 46,
      "outputs": [
        {
          "output_type": "display_data",
          "data": {
            "text/plain": [
              "<Figure size 500x500 with 1 Axes>"
            ],
            "image/png": "[encoded data removed]"
          },
          "metadata": {}
        }
      ]
    },
    {
      "cell_type": "code",
      "source": [
        "# extracts the first 10 elements from 'y'"
      ],
      "metadata": {
        "id": "i60XlwuCxef7"
      },
      "execution_count": 47,
      "outputs": []
    },
    {
      "cell_type": "code",
      "metadata": {
        "id": "hTYYsbmzGZzq",
        "colab": {
          "base_uri": "https://localhost:8080/"
        },
        "outputId": "f6b3d129-b9f4-46d7-c3b4-ea0093095c1a"
      },
      "source": [
        "y[:10]"
      ],
      "execution_count": 48,
      "outputs": [
        {
          "output_type": "execute_result",
          "data": {
            "text/plain": [
              "tensor([9., 1., 9., 7., 2., 5., 3., 5., 2., 7.], device='cuda:0')"
            ]
          },
          "metadata": {},
          "execution_count": 48
        }
      ]
    },
    {
      "cell_type": "code",
      "source": [
        "# initializes a weight matrix 'W' for a neural network layer with 784 input neurons and 10 output neurons,\n",
        "# filled with random values from a standard normal distribution,"
      ],
      "metadata": {
        "id": "MV14M65zxol1"
      },
      "execution_count": 49,
      "outputs": []
    },
    {
      "cell_type": "code",
      "source": [
        "W = GPU(np.random.randn(784,10))"
      ],
      "metadata": {
        "id": "G1MmJuRKC20Q"
      },
      "execution_count": 50,
      "outputs": []
    },
    {
      "cell_type": "code",
      "source": [
        "# extracts the dimensions for 'x' and 'W'"
      ],
      "metadata": {
        "id": "lwMdXtr_4R0q"
      },
      "execution_count": 51,
      "outputs": []
    },
    {
      "cell_type": "code",
      "metadata": {
        "id": "xNugjEScFiCC",
        "colab": {
          "base_uri": "https://localhost:8080/"
        },
        "outputId": "0a95a394-d01d-4f96-acaa-b98432c837ac"
      },
      "source": [
        "x.shape, W.shape"
      ],
      "execution_count": 52,
      "outputs": [
        {
          "output_type": "execute_result",
          "data": {
            "text/plain": [
              "(torch.Size([1000, 784]), torch.Size([784, 10]))"
            ]
          },
          "metadata": {},
          "execution_count": 52
        }
      ]
    },
    {
      "cell_type": "code",
      "source": [
        "# matrix multiples 'x' and 'W' while simultaneously getting the dimensions of that product"
      ],
      "metadata": {
        "id": "PFLYILoEyTR4"
      },
      "execution_count": 53,
      "outputs": []
    },
    {
      "cell_type": "code",
      "metadata": {
        "id": "2fKhesUrFrYo",
        "colab": {
          "base_uri": "https://localhost:8080/"
        },
        "outputId": "a6a986e8-b309-460d-8dc1-27b391e400c2"
      },
      "source": [
        "torch.matmul(x,W).shape"
      ],
      "execution_count": 54,
      "outputs": [
        {
          "output_type": "execute_result",
          "data": {
            "text/plain": [
              "torch.Size([1000, 10])"
            ]
          },
          "metadata": {},
          "execution_count": 54
        }
      ]
    },
    {
      "cell_type": "code",
      "source": [
        "# matrix multiples 'x' and 'W' while simultaneously getting the dimensions of that product"
      ],
      "metadata": {
        "id": "JaPsORJSywLN"
      },
      "execution_count": 55,
      "outputs": []
    },
    {
      "cell_type": "code",
      "metadata": {
        "id": "vXUJJil7VyS_",
        "colab": {
          "base_uri": "https://localhost:8080/"
        },
        "outputId": "d07ff87d-7e6a-48d0-d7ad-1768536ce4c8"
      },
      "source": [
        "(x@W).shape"
      ],
      "execution_count": 56,
      "outputs": [
        {
          "output_type": "execute_result",
          "data": {
            "text/plain": [
              "torch.Size([1000, 10])"
            ]
          },
          "metadata": {},
          "execution_count": 56
        }
      ]
    },
    {
      "cell_type": "code",
      "source": [
        "# repeatedly executes the matrix multiplication operation and measures the time it takes to execute, giving you an average time"
      ],
      "metadata": {
        "id": "piyn5CpLzcqm"
      },
      "execution_count": 57,
      "outputs": []
    },
    {
      "cell_type": "code",
      "metadata": {
        "id": "CCUIYKR-Il3c",
        "colab": {
          "base_uri": "https://localhost:8080/"
        },
        "outputId": "f4318db4-0cd9-4b1f-f6f8-30a0af0fee97"
      },
      "source": [
        "%%timeit\n",
        "x@W"
      ],
      "execution_count": 58,
      "outputs": [
        {
          "output_type": "stream",
          "name": "stdout",
          "text": [
            "21.2 µs ± 2.13 µs per loop (mean ± std. dev. of 7 runs, 10000 loops each)\n"
          ]
        }
      ]
    },
    {
      "cell_type": "code",
      "source": [
        "# matrix multiplication of 'x' and 'W'"
      ],
      "metadata": {
        "id": "xTYD-WHN0Ipf"
      },
      "execution_count": 59,
      "outputs": []
    },
    {
      "cell_type": "code",
      "metadata": {
        "id": "GlQwtdaSeB5S",
        "colab": {
          "base_uri": "https://localhost:8080/"
        },
        "outputId": "66f369a6-8399-4312-db87-da891de0987b"
      },
      "source": [
        "x@W"
      ],
      "execution_count": 60,
      "outputs": [
        {
          "output_type": "execute_result",
          "data": {
            "text/plain": [
              "tensor([[  5.8279,   9.8985,  13.7991,  ...,  14.1282, -31.8037,   3.0071],\n",
              "        [ -0.5377,  10.4892,   5.7082,  ...,   2.4457, -13.0523,   5.0068],\n",
              "        [ 14.1101,   5.4851,   6.9520,  ...,  -0.4388, -10.6077,   2.2774],\n",
              "        ...,\n",
              "        [-11.8566,  12.5028,   1.9910,  ...,   1.7546, -17.4564,   1.0331],\n",
              "        [ -6.0291,  10.3066,  12.0885,  ...,  14.7740,  -6.8875,  -3.8172],\n",
              "        [ -5.4776,   3.8644,  16.8636,  ...,   7.9987,  -0.3412,   0.5302]],\n",
              "       device='cuda:0', grad_fn=<MmBackward0>)"
            ]
          },
          "metadata": {},
          "execution_count": 60
        }
      ]
    },
    {
      "cell_type": "code",
      "source": [
        "# makes a variable equal to the matrix multiplication of 'x' and 'W'"
      ],
      "metadata": {
        "id": "qyPib7Sq0WiH"
      },
      "execution_count": 61,
      "outputs": []
    },
    {
      "cell_type": "code",
      "metadata": {
        "id": "E2hgdUkmeB8W"
      },
      "source": [
        "y2 = x@W"
      ],
      "execution_count": 62,
      "outputs": []
    },
    {
      "cell_type": "code",
      "source": [
        "# generates a line plot of the first 50 elements of 'y2'"
      ],
      "metadata": {
        "id": "QVaJ-mpJ09X9"
      },
      "execution_count": 63,
      "outputs": []
    },
    {
      "cell_type": "code",
      "metadata": {
        "id": "ZdZImnZFGeT6",
        "colab": {
          "base_uri": "https://localhost:8080/",
          "height": 422
        },
        "outputId": "42b49f33-5969-4861-96b5-bf0e9bd4533f"
      },
      "source": [
        "plot(y2[:50])"
      ],
      "execution_count": 64,
      "outputs": [
        {
          "output_type": "display_data",
          "data": {
            "text/plain": [
              "<Figure size 500x500 with 1 Axes>"
            ],
            "image/png": "[encoded data removed]"
          },
          "metadata": {}
        }
      ]
    },
    {
      "cell_type": "code",
      "source": [
        "# displays the variable 'y'"
      ],
      "metadata": {
        "id": "CRMgo-iT1eoA"
      },
      "execution_count": null,
      "outputs": []
    },
    {
      "cell_type": "code",
      "metadata": {
        "id": "eQSssyK-GoB2",
        "colab": {
          "base_uri": "https://localhost:8080/"
        },
        "outputId": "aa9ca726-032c-4c2b-ab71-3e970bea314c"
      },
      "source": [
        "y"
      ],
      "execution_count": 65,
      "outputs": [
        {
          "output_type": "execute_result",
          "data": {
            "text/plain": [
              "tensor([9., 1., 9., 7., 2., 5., 3., 5., 2., 7., 9., 3., 7., 5., 6., 0., 5., 1.,\n",
              "        3., 1., 4., 3., 1., 8., 5., 4., 2., 9., 1., 4., 6., 5., 8., 1., 5., 8.,\n",
              "        5., 6., 7., 8., 2., 9., 1., 0., 1., 1., 4., 2., 2., 3., 8., 4., 3., 5.,\n",
              "        4., 6., 4., 7., 2., 8., 7., 9., 1., 0., 0., 1., 3., 2., 1., 3., 9., 4.,\n",
              "        6., 5., 9., 6., 8., 7., 8., 8., 1., 0., 6., 1., 7., 2., 7., 3., 2., 4.,\n",
              "        1., 5., 4., 6., 4., 7., 4., 8., 1., 9., 5., 6., 6., 6., 4., 3., 2., 4.,\n",
              "        9., 2., 5., 8., 5., 1., 7., 0., 7., 6., 3., 4., 8., 9., 3., 7., 8., 2.,\n",
              "        5., 3., 0., 3., 9., 9., 0., 3., 3., 3., 5., 9., 0., 1., 7., 5., 9., 2.,\n",
              "        4., 3., 9., 1., 4., 6., 4., 7., 0., 3., 1., 7., 0., 8., 8., 4., 5., 0.,\n",
              "        0., 2., 1., 4., 0., 0., 0., 7., 9., 8., 4., 0., 6., 7., 3., 0., 3., 6.,\n",
              "        2., 9., 5., 3., 2., 2., 3., 4., 5., 8., 8., 6., 1., 0., 7., 5., 2., 7.,\n",
              "        3., 5., 8., 1., 1., 0., 9., 8., 5., 1., 1., 6., 5., 7., 9., 2., 7., 9.,\n",
              "        1., 7., 9., 9., 1., 5., 2., 6., 6., 5., 8., 2., 6., 6., 0., 1., 6., 7.,\n",
              "        3., 5., 0., 5., 6., 7., 8., 3., 0., 5., 1., 0., 3., 1., 5., 1., 2., 3.,\n",
              "        3., 8., 5., 1., 3., 0., 0., 1., 4., 2., 5., 3., 3., 4., 3., 5., 7., 6.,\n",
              "        5., 7., 1., 8., 9., 9., 3., 0., 2., 1., 0., 2., 0., 3., 4., 4., 3., 5.,\n",
              "        6., 6., 4., 7., 6., 8., 1., 9., 9., 0., 4., 1., 6., 2., 2., 3., 0., 4.,\n",
              "        8., 5., 5., 6., 6., 7., 7., 8., 2., 9., 2., 7., 6., 4., 4., 7., 6., 7.,\n",
              "        1., 3., 4., 9., 2., 8., 2., 8., 0., 3., 8., 1., 3., 5., 0., 8., 5., 2.,\n",
              "        8., 7., 8., 6., 7., 1., 8., 5., 9., 2., 3., 6., 9., 4., 9., 1., 3., 8.,\n",
              "        5., 7., 6., 5., 7., 5., 1., 1., 4., 8., 8., 9., 4., 1., 0., 3., 2., 6.,\n",
              "        9., 3., 8., 3., 4., 2., 6., 2., 7., 6., 4., 6., 1., 5., 4., 5., 1., 3.,\n",
              "        4., 3., 6., 8., 9., 1., 7., 6., 1., 5., 1., 6., 6., 8., 6., 1., 3., 9.,\n",
              "        6., 7., 8., 6., 8., 8., 3., 3., 1., 7., 9., 9., 7., 0., 3., 0., 3., 3.,\n",
              "        4., 7., 4., 9., 7., 3., 6., 0., 8., 2., 8., 0., 4., 1., 5., 0., 3., 1.,\n",
              "        0., 0., 7., 1., 8., 0., 8., 4., 8., 7., 2., 9., 2., 2., 2., 0., 0., 6.,\n",
              "        3., 2., 9., 6., 5., 2., 6., 2., 1., 9., 2., 9., 5., 0., 5., 1., 0., 2.,\n",
              "        7., 3., 4., 4., 1., 5., 4., 6., 3., 8., 5., 9., 3., 0., 5., 1., 7., 3.,\n",
              "        9., 4., 6., 5., 4., 6., 4., 7., 0., 8., 1., 9., 5., 0., 1., 1., 0., 2.,\n",
              "        7., 3., 7., 4., 6., 5., 6., 6., 9., 7., 7., 8., 1., 9., 0., 1., 1., 8.,\n",
              "        0., 6., 3., 7., 0., 1., 3., 3., 5., 7., 4., 7., 4., 9., 1., 3., 6., 6.,\n",
              "        7., 0., 4., 2., 6., 6., 8., 4., 0., 8., 6., 4., 9., 5., 1., 0., 0., 3.,\n",
              "        7., 9., 6., 2., 8., 1., 8., 1., 1., 5., 3., 9., 7., 4., 3., 2., 7., 0.,\n",
              "        0., 4., 8., 4., 3., 0., 2., 9., 3., 6., 0., 9., 7., 2., 5., 2., 8., 1.,\n",
              "        5., 7., 4., 9., 2., 5., 5., 1., 3., 1., 5., 9., 8., 6., 9., 0., 8., 1.,\n",
              "        4., 8., 6., 4., 4., 6., 6., 8., 0., 8., 4., 2., 8., 6., 8., 3., 4., 2.,\n",
              "        4., 9., 8., 2., 8., 4., 7., 0., 9., 9., 1., 0., 7., 3., 3., 3., 6., 5.,\n",
              "        5., 8., 0., 4., 1., 7., 5., 6., 9., 2., 5., 2., 9., 7., 3., 7., 2., 0.,\n",
              "        5., 5., 9., 1., 5., 5., 6., 3., 3., 0., 3., 1., 2., 2., 7., 3., 1., 4.,\n",
              "        7., 5., 5., 6., 1., 7., 9., 8., 6., 0., 6., 1., 7., 4., 1., 7., 7., 0.,\n",
              "        5., 1., 9., 4., 5., 7., 4., 8., 3., 9., 3., 6., 8., 8., 3., 2., 1., 4.,\n",
              "        7., 6., 3., 8., 3., 6., 7., 6., 2., 7., 3., 1., 7., 7., 8., 0., 9., 2.,\n",
              "        3., 2., 9., 0., 8., 1., 1., 6., 0., 5., 6., 1., 7., 2., 9., 0., 5., 2.,\n",
              "        8., 3., 8., 4., 8., 8., 2., 3., 1., 7., 2., 4., 9., 1., 8., 7., 6., 4.,\n",
              "        7., 8., 0., 3., 0., 9., 8., 6., 9., 7., 3., 0., 0., 9., 0., 6., 0., 0.,\n",
              "        2., 6., 8., 1., 5., 0., 5., 5., 6., 5., 5., 1., 7., 0., 5., 1., 4., 0.,\n",
              "        2., 9., 8., 4., 4., 5., 1., 9., 8., 7., 4., 0., 0., 2., 9., 1., 6., 4.,\n",
              "        7., 4., 0., 9., 2., 6., 9., 7., 0., 4., 1., 8., 1., 9., 5., 0., 8., 1.,\n",
              "        7., 2., 3., 3., 5., 7., 8., 8., 4., 0., 0., 1., 1., 2., 8., 3., 5., 4.,\n",
              "        3., 5., 8., 6., 0., 8., 0., 9., 7., 0., 9., 1., 3., 7., 1., 9., 0., 6.,\n",
              "        6., 3., 0., 3., 5., 9., 9., 9., 2., 5., 1., 1., 8., 4., 1., 2., 3., 5.,\n",
              "        2., 4., 1., 7., 6., 9., 2., 1., 4., 5., 7., 2., 9., 6., 6., 3., 9., 7.,\n",
              "        4., 8., 6., 5., 6., 1., 3., 2., 9., 6., 9., 6., 5., 7., 5., 8., 1., 8.,\n",
              "        9., 1., 4., 8., 8., 3., 4., 7., 6., 0., 0., 0., 0., 1., 3., 5., 3., 0.,\n",
              "        8., 5., 1., 2., 2., 8., 8., 0., 5., 4., 2., 3., 9., 1., 3., 8., 4., 2.,\n",
              "        5., 9., 3., 9., 0., 5., 1., 2., 3., 6.], device='cuda:0')"
            ]
          },
          "metadata": {},
          "execution_count": 65
        }
      ]
    },
    {
      "cell_type": "code",
      "source": [
        "# obtains the dimensions of 'y'"
      ],
      "metadata": {
        "id": "X9OHak991p_x"
      },
      "execution_count": null,
      "outputs": []
    },
    {
      "cell_type": "code",
      "source": [
        "y.shape"
      ],
      "metadata": {
        "id": "asy5jw0oy_F7",
        "colab": {
          "base_uri": "https://localhost:8080/"
        },
        "outputId": "32f3ebf7-556b-41bc-8099-c90e24d20b52"
      },
      "execution_count": 66,
      "outputs": [
        {
          "output_type": "execute_result",
          "data": {
            "text/plain": [
              "torch.Size([1000])"
            ]
          },
          "metadata": {},
          "execution_count": 66
        }
      ]
    },
    {
      "cell_type": "code",
      "source": [
        "# defines a function that takes in a tensor 'y' and converts it into an encoded tensor"
      ],
      "metadata": {
        "id": "90_rKVKh156-"
      },
      "execution_count": null,
      "outputs": []
    },
    {
      "cell_type": "code",
      "source": [
        "def one_hot(y):\n",
        "    y2 = GPU_data(torch.zeros((y.shape[0],10)))\n",
        "    for i in range(y.shape[0]):\n",
        "        y2[i,int(y[i])] = 1\n",
        "    return y2"
      ],
      "metadata": {
        "id": "BEgs4-skzhTC"
      },
      "execution_count": 67,
      "outputs": []
    },
    {
      "cell_type": "code",
      "source": [
        "# calls the function above"
      ],
      "metadata": {
        "id": "-3MN_Bs13IWG"
      },
      "execution_count": null,
      "outputs": []
    },
    {
      "cell_type": "code",
      "metadata": {
        "id": "EB2kNOUHGpIw",
        "colab": {
          "base_uri": "https://localhost:8080/"
        },
        "outputId": "392928a3-98a6-4210-b25d-da93aa1c5799"
      },
      "source": [
        "one_hot(y)"
      ],
      "execution_count": 68,
      "outputs": [
        {
          "output_type": "stream",
          "name": "stderr",
          "text": [
            "<ipython-input-33-1bad7f9f998f>:7: UserWarning: To copy construct from a tensor, it is recommended to use sourceTensor.clone().detach() or sourceTensor.clone().detach().requires_grad_(True), rather than torch.tensor(sourceTensor).\n",
            "  return torch.tensor(data, requires_grad=False, dtype=torch.float, device=torch.device('cuda'))\n"
          ]
        },
        {
          "output_type": "execute_result",
          "data": {
            "text/plain": [
              "tensor([[0., 0., 0.,  ..., 0., 0., 1.],\n",
              "        [0., 1., 0.,  ..., 0., 0., 0.],\n",
              "        [0., 0., 0.,  ..., 0., 0., 1.],\n",
              "        ...,\n",
              "        [0., 0., 1.,  ..., 0., 0., 0.],\n",
              "        [0., 0., 0.,  ..., 0., 0., 0.],\n",
              "        [0., 0., 0.,  ..., 0., 0., 0.]], device='cuda:0')"
            ]
          },
          "metadata": {},
          "execution_count": 68
        }
      ]
    },
    {
      "cell_type": "code",
      "source": [
        "# returns the indices of the maximum values along the second dimension"
      ],
      "metadata": {
        "id": "8dB3L18S2ipE"
      },
      "execution_count": null,
      "outputs": []
    },
    {
      "cell_type": "code",
      "metadata": {
        "id": "v91JZyTQeCMp",
        "colab": {
          "base_uri": "https://localhost:8080/"
        },
        "outputId": "a388fe46-5bf4-4b7e-800d-650c7ff1c39a"
      },
      "source": [
        "torch.argmax(y2,1)"
      ],
      "execution_count": 69,
      "outputs": [
        {
          "output_type": "execute_result",
          "data": {
            "text/plain": [
              "tensor([7, 5, 0, 7, 1, 0, 2, 0, 1, 7, 2, 4, 2, 0, 7, 4, 9, 7, 7, 2, 5, 4, 9, 1,\n",
              "        1, 7, 1, 7, 9, 0, 4, 0, 7, 1, 2, 1, 7, 4, 2, 1, 4, 7, 7, 1, 2, 1, 2, 1,\n",
              "        2, 2, 7, 2, 1, 1, 7, 1, 0, 2, 1, 1, 2, 0, 5, 1, 1, 5, 1, 4, 2, 1, 5, 2,\n",
              "        7, 1, 7, 1, 0, 7, 7, 1, 9, 1, 1, 2, 7, 4, 1, 2, 2, 7, 2, 5, 0, 1, 1, 2,\n",
              "        2, 1, 2, 0, 1, 1, 4, 7, 0, 2, 7, 2, 2, 1, 1, 2, 1, 2, 7, 1, 5, 1, 2, 2,\n",
              "        2, 0, 1, 7, 1, 1, 1, 1, 4, 4, 7, 0, 4, 2, 2, 1, 1, 7, 7, 2, 2, 4, 2, 4,\n",
              "        5, 1, 2, 2, 0, 1, 7, 7, 4, 2, 2, 7, 7, 1, 1, 5, 1, 1, 1, 4, 2, 1, 4, 1,\n",
              "        1, 2, 0, 1, 2, 1, 4, 7, 2, 1, 1, 1, 1, 1, 2, 2, 7, 4, 2, 5, 1, 1, 1, 1,\n",
              "        2, 1, 7, 5, 2, 7, 5, 1, 7, 2, 9, 7, 5, 1, 1, 5, 2, 1, 1, 7, 2, 4, 7, 7,\n",
              "        2, 7, 0, 9, 9, 0, 4, 7, 1, 0, 1, 1, 1, 1, 1, 2, 7, 0, 1, 1, 4, 1, 1, 7,\n",
              "        1, 4, 4, 1, 1, 1, 2, 2, 1, 5, 1, 1, 1, 1, 1, 7, 4, 4, 1, 5, 7, 1, 1, 2,\n",
              "        7, 7, 5, 3, 2, 7, 7, 7, 7, 7, 2, 0, 1, 4, 1, 9, 4, 1, 4, 4, 1, 2, 7, 0,\n",
              "        0, 1, 0, 2, 1, 7, 1, 7, 2, 0, 0, 9, 1, 1, 1, 0, 7, 0, 2, 5, 2, 1, 5, 2,\n",
              "        5, 7, 0, 2, 2, 7, 7, 2, 7, 7, 7, 2, 2, 2, 0, 0, 7, 0, 5, 5, 4, 0, 0, 5,\n",
              "        1, 0, 7, 7, 7, 7, 7, 7, 1, 7, 2, 1, 1, 1, 2, 4, 2, 1, 7, 7, 0, 5, 9, 7,\n",
              "        7, 7, 1, 3, 7, 3, 2, 2, 2, 1, 1, 1, 0, 5, 4, 2, 7, 1, 7, 2, 1, 2, 7, 1,\n",
              "        1, 1, 7, 2, 0, 1, 5, 1, 1, 3, 9, 2, 4, 2, 1, 7, 5, 5, 7, 1, 5, 3, 9, 1,\n",
              "        1, 1, 4, 2, 5, 0, 1, 7, 7, 1, 7, 7, 2, 2, 6, 2, 2, 7, 0, 1, 1, 1, 2, 1,\n",
              "        0, 7, 5, 0, 2, 1, 1, 1, 1, 1, 1, 1, 1, 7, 4, 1, 2, 5, 7, 4, 0, 2, 7, 4,\n",
              "        1, 5, 2, 2, 1, 7, 1, 1, 2, 1, 7, 1, 2, 4, 1, 1, 1, 1, 4, 4, 9, 7, 2, 7,\n",
              "        2, 4, 1, 2, 1, 1, 2, 2, 0, 2, 7, 3, 7, 2, 7, 7, 2, 2, 1, 7, 7, 9, 5, 2,\n",
              "        2, 2, 2, 2, 0, 1, 7, 7, 4, 1, 9, 0, 7, 1, 1, 7, 1, 4, 2, 1, 7, 2, 1, 3,\n",
              "        4, 1, 1, 0, 7, 7, 7, 4, 4, 7, 6, 7, 1, 2, 7, 7, 4, 7, 5, 0, 1, 2, 7, 7,\n",
              "        1, 4, 1, 4, 1, 1, 7, 1, 0, 7, 4, 1, 1, 7, 0, 7, 0, 2, 2, 1, 9, 7, 1, 7,\n",
              "        7, 0, 2, 1, 1, 7, 5, 2, 9, 3, 1, 7, 2, 1, 1, 4, 7, 4, 4, 0, 7, 7, 2, 2,\n",
              "        4, 7, 7, 1, 1, 2, 2, 2, 1, 1, 7, 7, 1, 2, 0, 0, 4, 3, 2, 2, 7, 2, 2, 2,\n",
              "        1, 1, 2, 7, 5, 7, 7, 7, 2, 2, 1, 1, 1, 5, 4, 1, 0, 1, 1, 1, 7, 9, 2, 1,\n",
              "        2, 7, 1, 4, 2, 1, 7, 1, 7, 9, 7, 7, 7, 2, 2, 4, 1, 3, 2, 7, 7, 7, 9, 2,\n",
              "        2, 2, 2, 2, 1, 1, 4, 2, 7, 2, 1, 4, 4, 3, 0, 5, 2, 3, 7, 4, 1, 7, 9, 1,\n",
              "        4, 7, 2, 0, 9, 0, 5, 5, 2, 1, 1, 2, 7, 1, 1, 4, 1, 5, 7, 7, 2, 7, 7, 4,\n",
              "        1, 1, 2, 0, 7, 7, 7, 1, 1, 7, 7, 1, 7, 5, 7, 1, 2, 2, 7, 1, 1, 1, 7, 1,\n",
              "        7, 7, 1, 0, 2, 2, 7, 7, 7, 7, 7, 4, 5, 4, 7, 7, 7, 2, 6, 1, 1, 5, 7, 1,\n",
              "        2, 1, 7, 4, 3, 4, 1, 1, 2, 1, 1, 7, 1, 4, 5, 7, 4, 7, 2, 2, 1, 7, 1, 0,\n",
              "        2, 1, 1, 1, 1, 7, 2, 1, 2, 7, 1, 7, 4, 7, 1, 1, 4, 7, 2, 1, 1, 2, 0, 7,\n",
              "        7, 1, 4, 1, 1, 5, 5, 1, 1, 2, 0, 2, 4, 7, 0, 7, 1, 1, 7, 7, 1, 5, 5, 4,\n",
              "        1, 2, 7, 2, 7, 7, 5, 7, 4, 0, 4, 1, 1, 7, 4, 7, 7, 0, 5, 7, 1, 4, 1, 7,\n",
              "        7, 4, 1, 1, 1, 1, 5, 7, 2, 1, 4, 5, 7, 4, 7, 4, 1, 0, 4, 6, 1, 5, 7, 1,\n",
              "        4, 7, 7, 4, 2, 2, 1, 7, 9, 0, 4, 2, 0, 4, 1, 1, 1, 1, 7, 1, 1, 5, 2, 0,\n",
              "        7, 7, 2, 1, 7, 3, 4, 5, 9, 7, 1, 0, 4, 5, 0, 1, 7, 4, 1, 1, 0, 4, 2, 2,\n",
              "        2, 7, 4, 1, 1, 5, 7, 1, 7, 1, 2, 1, 1, 7, 7, 1, 7, 7, 0, 2, 0, 0, 1, 4,\n",
              "        4, 7, 1, 2, 7, 1, 7, 5, 2, 3, 4, 4, 4, 3, 9, 1, 4, 7, 4, 1, 1, 7, 2, 2,\n",
              "        2, 2, 2, 7, 1, 1, 7, 7, 1, 2, 4, 2, 1, 1, 7, 2], device='cuda:0')"
            ]
          },
          "metadata": {},
          "execution_count": 69
        }
      ]
    },
    {
      "cell_type": "code",
      "source": [
        "# computes the accuracy of a classification task where 'y' is the true labels and 'y2' is the predicted labels"
      ],
      "metadata": {
        "id": "TECsrOSD2rWP"
      },
      "execution_count": null,
      "outputs": []
    },
    {
      "cell_type": "code",
      "metadata": {
        "id": "0hfl1lKrguTg",
        "colab": {
          "base_uri": "https://localhost:8080/"
        },
        "outputId": "feaf6185-1f8d-4eb0-bfb4-ecb415578ba4"
      },
      "source": [
        "torch.sum(y == torch.argmax(y2,1))/b"
      ],
      "execution_count": 70,
      "outputs": [
        {
          "output_type": "execute_result",
          "data": {
            "text/plain": [
              "tensor(0.0890, device='cuda:0')"
            ]
          },
          "metadata": {},
          "execution_count": 70
        }
      ]
    },
    {
      "cell_type": "code",
      "source": [
        "# obtains the dimensions of 'X'"
      ],
      "metadata": {
        "id": "K9HoA-iA3R6n"
      },
      "execution_count": null,
      "outputs": []
    },
    {
      "cell_type": "code",
      "metadata": {
        "id": "xz7Ea13HwarC",
        "colab": {
          "base_uri": "https://localhost:8080/"
        },
        "outputId": "e1a04792-4b8a-4517-e8ff-7c9bc4822d11"
      },
      "source": [
        "X.shape"
      ],
      "execution_count": 71,
      "outputs": [
        {
          "output_type": "execute_result",
          "data": {
            "text/plain": [
              "torch.Size([60000, 784])"
            ]
          },
          "metadata": {},
          "execution_count": 71
        }
      ]
    },
    {
      "cell_type": "code",
      "source": [
        "# matrix multiplication of 'X' and 'W'"
      ],
      "metadata": {
        "id": "Jd3gxIep3r1T"
      },
      "execution_count": null,
      "outputs": []
    },
    {
      "cell_type": "code",
      "metadata": {
        "id": "FNP2ahywwatJ",
        "colab": {
          "base_uri": "https://localhost:8080/"
        },
        "outputId": "65d16c23-3af4-4dc4-f099-4c0dfc4357aa"
      },
      "source": [
        "X@W"
      ],
      "execution_count": 72,
      "outputs": [
        {
          "output_type": "execute_result",
          "data": {
            "text/plain": [
              "tensor([[ -4.8267,   8.2511,  17.8106,  ...,   3.3242,  -5.3053,  -9.6090],\n",
              "        [ -0.3159,   6.3191,  -3.2463,  ...,   2.3454, -24.5007,  -4.6576],\n",
              "        [  9.4265,   7.5229,   2.2368,  ...,   9.3573,  -6.6069,   7.5390],\n",
              "        ...,\n",
              "        [  9.3654,  17.0234,   5.2071,  ...,  10.4109,  -5.3444,  -5.7732],\n",
              "        [  5.4166,  16.5120,  -6.2876,  ...,   2.6456, -16.7291, -12.5314],\n",
              "        [  1.5973,   6.7649,  -0.1874,  ...,   5.1909, -11.1559,   3.3458]],\n",
              "       device='cuda:0', grad_fn=<MmBackward0>)"
            ]
          },
          "metadata": {},
          "execution_count": 72
        }
      ]
    },
    {
      "cell_type": "code",
      "source": [
        "# computes the indices of the maximum value along a specified axis in the matrix product of tensors 'X' and 'W'"
      ],
      "metadata": {
        "id": "qBSt1qlZCwl1"
      },
      "execution_count": null,
      "outputs": []
    },
    {
      "cell_type": "code",
      "metadata": {
        "id": "WbGDRj7BwavA",
        "colab": {
          "base_uri": "https://localhost:8080/"
        },
        "outputId": "363919bc-c052-4c26-9b64-b28ed713dd8a"
      },
      "source": [
        "torch.argmax(X@W,1)"
      ],
      "execution_count": 73,
      "outputs": [
        {
          "output_type": "execute_result",
          "data": {
            "text/plain": [
              "tensor([2, 4, 5,  ..., 1, 1, 1], device='cuda:0')"
            ]
          },
          "metadata": {},
          "execution_count": 73
        }
      ]
    },
    {
      "cell_type": "code",
      "metadata": {
        "id": "EXTb4Y4ywaw3",
        "colab": {
          "base_uri": "https://localhost:8080/"
        },
        "outputId": "0219a157-adb4-4ab5-9811-f47974a9e4ea"
      },
      "source": [
        "Y"
      ],
      "execution_count": 74,
      "outputs": [
        {
          "output_type": "execute_result",
          "data": {
            "text/plain": [
              "tensor([5., 0., 4.,  ..., 5., 6., 8.], device='cuda:0')"
            ]
          },
          "metadata": {},
          "execution_count": 74
        }
      ]
    },
    {
      "cell_type": "code",
      "source": [
        "# computes the accuracy as a fraction of correct predictions out of the total number of samples"
      ],
      "metadata": {
        "id": "t5CILeKXEwve"
      },
      "execution_count": null,
      "outputs": []
    },
    {
      "cell_type": "code",
      "metadata": {
        "id": "h_w3ksHVjQwu",
        "colab": {
          "base_uri": "https://localhost:8080/"
        },
        "outputId": "ea2b5563-7d56-4c85-e707-e034677fecaa"
      },
      "source": [
        "torch.sum(torch.argmax(X@W,1) == Y)/60000"
      ],
      "execution_count": 75,
      "outputs": [
        {
          "output_type": "execute_result",
          "data": {
            "text/plain": [
              "tensor(0.1005, device='cuda:0')"
            ]
          },
          "metadata": {},
          "execution_count": 75
        }
      ]
    },
    {
      "cell_type": "code",
      "metadata": {
        "id": "n6RKfzVLnOTD",
        "colab": {
          "base_uri": "https://localhost:8080/"
        },
        "outputId": "48d14bc4-e6ff-4d7f-f36f-c8dbde59ee23"
      },
      "source": [
        "X@W"
      ],
      "execution_count": 76,
      "outputs": [
        {
          "output_type": "execute_result",
          "data": {
            "text/plain": [
              "tensor([[ -4.8267,   8.2511,  17.8106,  ...,   3.3242,  -5.3053,  -9.6090],\n",
              "        [ -0.3159,   6.3191,  -3.2463,  ...,   2.3454, -24.5007,  -4.6576],\n",
              "        [  9.4265,   7.5229,   2.2368,  ...,   9.3573,  -6.6069,   7.5390],\n",
              "        ...,\n",
              "        [  9.3654,  17.0234,   5.2071,  ...,  10.4109,  -5.3444,  -5.7732],\n",
              "        [  5.4166,  16.5120,  -6.2876,  ...,   2.6456, -16.7291, -12.5314],\n",
              "        [  1.5973,   6.7649,  -0.1874,  ...,   5.1909, -11.1559,   3.3458]],\n",
              "       device='cuda:0', grad_fn=<MmBackward0>)"
            ]
          },
          "metadata": {},
          "execution_count": 76
        }
      ]
    },
    {
      "cell_type": "code",
      "metadata": {
        "id": "GpOVv7nInOUw",
        "colab": {
          "base_uri": "https://localhost:8080/"
        },
        "outputId": "ea48e235-32ab-4e99-cde9-ce526e27c160"
      },
      "source": [
        "W.shape"
      ],
      "execution_count": 77,
      "outputs": [
        {
          "output_type": "execute_result",
          "data": {
            "text/plain": [
              "torch.Size([784, 10])"
            ]
          },
          "metadata": {},
          "execution_count": 77
        }
      ]
    },
    {
      "cell_type": "code",
      "source": [
        "# returns the shape of the first column of the matrix 'W'"
      ],
      "metadata": {
        "id": "MKwMxNY1Fkio"
      },
      "execution_count": null,
      "outputs": []
    },
    {
      "cell_type": "code",
      "metadata": {
        "id": "IRq_ouBUnOWx",
        "colab": {
          "base_uri": "https://localhost:8080/"
        },
        "outputId": "db5e569b-e437-441c-ea84-bf9e266d080a"
      },
      "source": [
        "W[:,0].shape"
      ],
      "execution_count": 78,
      "outputs": [
        {
          "output_type": "execute_result",
          "data": {
            "text/plain": [
              "torch.Size([784])"
            ]
          },
          "metadata": {},
          "execution_count": 78
        }
      ]
    },
    {
      "cell_type": "code",
      "source": [
        "# plots the values of a column vector reshaped into a 28x28 grid"
      ],
      "metadata": {
        "id": "QOFUPAmtF1B0"
      },
      "execution_count": null,
      "outputs": []
    },
    {
      "cell_type": "code",
      "metadata": {
        "id": "uYWJulTHnOa1",
        "colab": {
          "base_uri": "https://localhost:8080/",
          "height": 422
        },
        "outputId": "86d9ffa9-50bf-4418-96f8-5e70c43cbbf9"
      },
      "source": [
        "plot(W[:,0].reshape(28,28))"
      ],
      "execution_count": 79,
      "outputs": [
        {
          "output_type": "display_data",
          "data": {
            "text/plain": [
              "<Figure size 500x500 with 1 Axes>"
            ],
            "image/png": "[encoded data removed]"
          },
          "metadata": {}
        }
      ]
    },
    {
      "cell_type": "code",
      "metadata": {
        "id": "tupFwuSZnOk9",
        "colab": {
          "base_uri": "https://localhost:8080/",
          "height": 422
        },
        "outputId": "3fd6340e-2ffa-4113-9e9e-4683a95e880a"
      },
      "source": [
        "plot(W[:,2].reshape(28,28))"
      ],
      "execution_count": 80,
      "outputs": [
        {
          "output_type": "display_data",
          "data": {
            "text/plain": [
              "<Figure size 500x500 with 1 Axes>"
            ],
            "image/png": "[encoded data removed]"
          },
          "metadata": {}
        }
      ]
    },
    {
      "cell_type": "code",
      "metadata": {
        "id": "Wvvy6MrAkC5Z",
        "colab": {
          "base_uri": "https://localhost:8080/"
        },
        "outputId": "f37f30c6-2d26-4131-8d1a-b5f59398542e"
      },
      "source": [
        "W.shape"
      ],
      "execution_count": 81,
      "outputs": [
        {
          "output_type": "execute_result",
          "data": {
            "text/plain": [
              "torch.Size([784, 10])"
            ]
          },
          "metadata": {},
          "execution_count": 81
        }
      ]
    },
    {
      "cell_type": "code",
      "source": [
        "# returns a tuple representing the dimensions of the transposed matrix or tensor"
      ],
      "metadata": {
        "id": "S7XUQcDUGeMw"
      },
      "execution_count": null,
      "outputs": []
    },
    {
      "cell_type": "code",
      "metadata": {
        "id": "MCrJ9cNPkC76",
        "colab": {
          "base_uri": "https://localhost:8080/"
        },
        "outputId": "a9c1c2c2-f2dd-470c-828c-1cbe1a51454a"
      },
      "source": [
        "(W.T).shape"
      ],
      "execution_count": 82,
      "outputs": [
        {
          "output_type": "execute_result",
          "data": {
            "text/plain": [
              "torch.Size([10, 784])"
            ]
          },
          "metadata": {},
          "execution_count": 82
        }
      ]
    },
    {
      "cell_type": "code",
      "source": [
        "# taking a tensor 'W', reshaping it, converting it to a NumPy array, and then plotting\n",
        "# the resulting images in a montage using the custom function 'montage_plot()'"
      ],
      "metadata": {
        "id": "xVYKlSw2HDww"
      },
      "execution_count": null,
      "outputs": []
    },
    {
      "cell_type": "code",
      "metadata": {
        "id": "wAkEKB2_jQyy",
        "colab": {
          "base_uri": "https://localhost:8080/",
          "height": 422
        },
        "outputId": "e2053b57-875f-40b6-9b81-17356d8a58d3"
      },
      "source": [
        "montage_plot((W.T).reshape(10,28,28).cpu().detach().numpy())"
      ],
      "execution_count": 83,
      "outputs": [
        {
          "output_type": "display_data",
          "data": {
            "text/plain": [
              "<Figure size 500x500 with 1 Axes>"
            ],
            "image/png": "[encoded data removed]"
          },
          "metadata": {}
        }
      ]
    },
    {
      "cell_type": "code",
      "source": [
        "# defines a function that converts raw scores or logits into probabilities"
      ],
      "metadata": {
        "id": "s9-mMWW6HcE4"
      },
      "execution_count": null,
      "outputs": []
    },
    {
      "cell_type": "code",
      "metadata": {
        "id": "m4BlYG-CgC2z"
      },
      "source": [
        "def softmax(x):\n",
        "    s1 = torch.exp(x - torch.max(x,1)[0][:,None])\n",
        "    s = s1 / s1.sum(1)[:,None]\n",
        "    return s"
      ],
      "execution_count": 84,
      "outputs": []
    },
    {
      "cell_type": "code",
      "source": [
        "# defines a function that computes the cross-entropy loss between the predicted 'outputs' and the actual 'labels'"
      ],
      "metadata": {
        "id": "1diLAmTEIVxI"
      },
      "execution_count": null,
      "outputs": []
    },
    {
      "cell_type": "code",
      "metadata": {
        "id": "XZ-UV8W_c_9o"
      },
      "source": [
        "def cross_entropy(outputs, labels):\n",
        "    return -torch.sum(softmax(outputs).log()[range(outputs.size()[0]), labels.long()])/outputs.size()[0]"
      ],
      "execution_count": 85,
      "outputs": []
    },
    {
      "cell_type": "code",
      "source": [
        "# defines a function that returns the accuracy of the model's predictions"
      ],
      "metadata": {
        "id": "bT1-KpKqJLUt"
      },
      "execution_count": null,
      "outputs": []
    },
    {
      "cell_type": "code",
      "metadata": {
        "id": "LW3ttVcq1sI9"
      },
      "source": [
        "def acc(out,y):\n",
        "    return (torch.sum(torch.max(out,1)[1] == y).item())/y.shape[0]"
      ],
      "execution_count": 86,
      "outputs": []
    },
    {
      "cell_type": "code",
      "source": [
        "# defines a function that gets batches of data from either training or testing datasets based on the mode specified."
      ],
      "metadata": {
        "id": "Nx5LkFOVJkwl"
      },
      "execution_count": null,
      "outputs": []
    },
    {
      "cell_type": "code",
      "metadata": {
        "id": "x79Sie8XKPOC"
      },
      "source": [
        "def get_batch(mode):\n",
        "    b = c.b\n",
        "    if mode == \"train\":\n",
        "        r = np.random.randint(X.shape[0]-b)\n",
        "        x = X[r:r+b,:]\n",
        "        y = Y[r:r+b]\n",
        "    elif mode == \"test\":\n",
        "        r = np.random.randint(X_test.shape[0]-b)\n",
        "        x = X_test[r:r+b,:]\n",
        "        y = Y_test[r:r+b]\n",
        "    return x,y"
      ],
      "execution_count": 87,
      "outputs": []
    },
    {
      "cell_type": "code",
      "source": [
        "# defines a function that performs a matrix multiplication between 'x' and the first element of 'w'"
      ],
      "metadata": {
        "id": "Qsh9JjX0Krg9"
      },
      "execution_count": null,
      "outputs": []
    },
    {
      "cell_type": "code",
      "metadata": {
        "id": "vXOr9aM8A8P-"
      },
      "source": [
        "def model(x,w):\n",
        "\n",
        "    return x@w[0]"
      ],
      "execution_count": 88,
      "outputs": []
    },
    {
      "cell_type": "code",
      "source": [
        "# defines a function that performs a single step of gradient descent on a parameter 'w'"
      ],
      "metadata": {
        "id": "KVN5V06LLSx8"
      },
      "execution_count": null,
      "outputs": []
    },
    {
      "cell_type": "code",
      "metadata": {
        "id": "-k6j0lacnYYk"
      },
      "source": [
        "def gradient_step(w):\n",
        "\n",
        "    w[0].data = w[0].data - c.L*w[0].grad.data\n",
        "\n",
        "    w[0].grad.data.zero_()"
      ],
      "execution_count": 89,
      "outputs": []
    },
    {
      "cell_type": "code",
      "source": [
        "# defines a function that generates and logs accuracy metrics for a machine learning model's training and testing performance."
      ],
      "metadata": {
        "id": "H-FwDmQ3M_cE"
      },
      "execution_count": null,
      "outputs": []
    },
    {
      "cell_type": "code",
      "metadata": {
        "id": "uzRsuDek9Fve"
      },
      "source": [
        "def make_plots():\n",
        "\n",
        "    acc_train = acc(model(x,w),y)\n",
        "\n",
        "    xt,yt = get_batch('test')\n",
        "\n",
        "    acc_test = acc(model(xt,w),yt)\n",
        "\n",
        "    wb.log({\"acc_train\": acc_train, \"acc_test\": acc_test})"
      ],
      "execution_count": 90,
      "outputs": []
    },
    {
      "cell_type": "code",
      "source": [
        "# defines a function that generates samples from a truncated normal distribution"
      ],
      "metadata": {
        "id": "jjJm_7zsNNfv"
      },
      "execution_count": null,
      "outputs": []
    },
    {
      "cell_type": "code",
      "source": [
        "def Truncated_Normal(size):\n",
        "\n",
        "    u1 = torch.rand(size)*(1-np.exp(-2)) + np.exp(-2)\n",
        "    u2 = torch.rand(size)\n",
        "    z  = torch.sqrt(-2*torch.log(u1)) * torch.cos(2*np.pi*u2)\n",
        "\n",
        "    return z"
      ],
      "metadata": {
        "id": "fx6a-FjX6bEN"
      },
      "execution_count": 91,
      "outputs": []
    },
    {
      "cell_type": "code",
      "metadata": {
        "id": "v_6a6qnKA7zP",
        "colab": {
          "base_uri": "https://localhost:8080/",
          "height": 107
        },
        "outputId": "3130feb4-ed1f-46d2-f535-91987303bc17"
      },
      "source": [
        "# initializes a project in the \"wandb\" platform and runs a loop for three times.\n",
        "# Each time, it sets some configurations for the project, and initializes a neural network weight matrix\n",
        "for run in range(3):\n",
        "\n",
        "    wb.init(project=\"Simple_Linear_SGD_123\");\n",
        "    c = wb.config\n",
        "\n",
        "    c.L = 0.1\n",
        "    c.b = 1024\n",
        "    c.epochs = 10000\n",
        "\n",
        "    w = [GPU(Truncated_Normal((784,10)))]\n",
        "\n",
        "# trains a neural network model and generates plots to monitor its training progress\n",
        "    for i in range(c.epochs):\n",
        "\n",
        "        x,y = get_batch('train')\n",
        "\n",
        "        out = model(x,w)\n",
        "\n",
        "        loss = cross_entropy(softmax(out),y)\n",
        "\n",
        "        loss.backward()\n",
        "\n",
        "        gradient_step(w)\n",
        "\n",
        "        make_plots()\n",
        "\n",
        "        if (i+1) % 10000 == 0: montage_plot((w[0].T).reshape(10,28,28).cpu().detach().numpy())"
      ],
      "execution_count": null,
      "outputs": [
        {
          "output_type": "display_data",
          "data": {
            "text/plain": [
              "<IPython.core.display.Javascript object>"
            ],
            "application/javascript": [
              "\n",
              "        window._wandbApiKey = new Promise((resolve, reject) => {\n",
              "            function loadScript(url) {\n",
              "            return new Promise(function(resolve, reject) {\n",
              "                let newScript = document.createElement(\"script\");\n",
              "                newScript.onerror = reject;\n",
              "                newScript.onload = resolve;\n",
              "                document.body.appendChild(newScript);\n",
              "                newScript.src = url;\n",
              "            });\n",
              "            }\n",
              "            loadScript(\"https://cdn.jsdelivr.net/npm/postmate/build/postmate.min.js\").then(() => {\n",
              "            const iframe = document.createElement('iframe')\n",
              "            iframe.style.cssText = \"width:0;height:0;border:none\"\n",
              "            document.body.appendChild(iframe)\n",
              "            const handshake = new Postmate({\n",
              "                container: iframe,\n",
              "                url: 'https://wandb.ai/authorize'\n",
              "            });\n",
              "            const timeout = setTimeout(() => reject(\"Couldn't auto authenticate\"), 5000)\n",
              "            handshake.then(function(child) {\n",
              "                child.on('authorize', data => {\n",
              "                    clearTimeout(timeout)\n",
              "                    resolve(data)\n",
              "                });\n",
              "            });\n",
              "            })\n",
              "        });\n",
              "    "
            ]
          },
          "metadata": {}
        },
        {
          "output_type": "stream",
          "name": "stderr",
          "text": [
            "\u001b[34m\u001b[1mwandb\u001b[0m: Logging into wandb.ai. (Learn how to deploy a W&B server locally: https://wandb.me/wandb-server)\n",
            "\u001b[34m\u001b[1mwandb\u001b[0m: You can find your API key in your browser here: https://wandb.ai/authorize\n",
            "wandb: Paste an API key from your profile and hit enter, or press ctrl+c to quit:"
          ]
        }
      ]
    },
    {
      "cell_type": "code",
      "metadata": {
        "id": "WANJibeUNghZ"
      },
      "source": [
        "for run in range(100):\n",
        "\n",
        "    wb.init(project=\"Simple_Linear_Adam_2\");\n",
        "    c = wb.config\n",
        "\n",
        "    c.L = 0.01\n",
        "    c.b = 1024\n",
        "    c.epochs = 100000\n",
        "\n",
        "    w = [GPU(Truncated_Normal((784,10)))]\n",
        "\n",
        "    optimizer = torch.optim.Adam(w, lr=c.L)\n",
        "\n",
        "    for i in range(c.epochs):\n",
        "\n",
        "        x,y = get_batch('train')\n",
        "\n",
        "        loss = cross_entropy(softmax(model(x,w)),y)\n",
        "\n",
        "        optimizer.zero_grad()\n",
        "        loss.backward()\n",
        "        optimizer.step()\n",
        "\n",
        "        wb.log({\"loss\": loss})\n",
        "\n",
        "        make_plots()\n",
        "\n",
        "        if i % 10000 == 0 : montage_plot((w[0].T).reshape(10,28,28).cpu().detach().numpy())"
      ],
      "execution_count": null,
      "outputs": []
    },
    {
      "cell_type": "markdown",
      "source": [
        "\n",
        "### Autoencoder\n"
      ],
      "metadata": {
        "id": "MMkIx6bTNy8g"
      }
    },
    {
      "cell_type": "code",
      "source": [
        "# defines a function that gets batches of training or testing data"
      ],
      "metadata": {
        "id": "c1WesHVrQngu"
      },
      "execution_count": null,
      "outputs": []
    },
    {
      "cell_type": "code",
      "source": [
        "def get_batch(mode):\n",
        "    b = 1024\n",
        "    if mode == \"train\":\n",
        "        r = np.random.randint(X.shape[0]-b)\n",
        "        x = X[r:r+b,:]\n",
        "        y = Y[r:r+b]\n",
        "    elif mode == \"test\":\n",
        "        r = np.random.randint(X_test.shape[0]-b)\n",
        "        x = X_test[r:r+b,:]\n",
        "        y = Y_test[r:r+b]\n",
        "    return x,y"
      ],
      "metadata": {
        "id": "7QaW3xn0-M-l"
      },
      "execution_count": null,
      "outputs": []
    },
    {
      "cell_type": "code",
      "source": [
        "# reshapes the input arrays"
      ],
      "metadata": {
        "id": "fdjtCzJFRSoH"
      },
      "execution_count": null,
      "outputs": []
    },
    {
      "cell_type": "code",
      "source": [
        "X = X.reshape(X.shape[0],1,28,28)\n",
        "X_test = X_test.reshape(X_test.shape[0],1,28,28)"
      ],
      "metadata": {
        "id": "WBQQOXS7XU-k"
      },
      "execution_count": null,
      "outputs": []
    },
    {
      "cell_type": "code",
      "source": [
        "import torchvision\n",
        "from torch.nn.functional import *"
      ],
      "metadata": {
        "id": "Ieh4jE_laYn2"
      },
      "execution_count": null,
      "outputs": []
    },
    {
      "cell_type": "code",
      "source": [
        "# normalize the tensors, bringing their values into a range that's centered around 0.5 with a spread controlled by the standard deviation of 0.5"
      ],
      "metadata": {
        "id": "01EQcW6zSz0D"
      },
      "execution_count": null,
      "outputs": []
    },
    {
      "cell_type": "code",
      "source": [
        "X = torchvision.transforms.functional.normalize(X,0.5,0.5)\n",
        "X_test = torchvision.transforms.functional.normalize(X_test,0.5,0.5)"
      ],
      "metadata": {
        "id": "N4StPT7VBG9O"
      },
      "execution_count": null,
      "outputs": []
    },
    {
      "cell_type": "code",
      "source": [
        "# defines a function that encodes the data"
      ],
      "metadata": {
        "id": "gNLAce6WTEaI"
      },
      "execution_count": null,
      "outputs": []
    },
    {
      "cell_type": "code",
      "metadata": {
        "id": "UafuXvzKjSw7"
      },
      "source": [
        "def Encoder(x,w):\n",
        "    x = relu(conv2d(x,w[0], stride=(2, 2), padding=(1, 1)))\n",
        "    x = relu(conv2d(x,w[1], stride=(2, 2), padding=(1, 1)))\n",
        "    x = x.view(x.size(0), 6272)\n",
        "    x = linear(x,w[2])\n",
        "    return x"
      ],
      "execution_count": null,
      "outputs": []
    },
    {
      "cell_type": "code",
      "source": [
        "# defines a function that decodes the data"
      ],
      "metadata": {
        "id": "5_f7UhIDTuEg"
      },
      "execution_count": null,
      "outputs": []
    },
    {
      "cell_type": "code",
      "metadata": {
        "id": "ivvSdA3VjSw_"
      },
      "source": [
        "def Decoder(x,w):\n",
        "    x = linear(x,w[3])\n",
        "    x = x.view(x.size(0), 128, 7, 7)\n",
        "    x = relu(conv_transpose2d(x,w[4], stride=(2, 2), padding=(1, 1)))\n",
        "    x = torch.tanh(conv_transpose2d(x,w[5], stride=(2, 2), padding=(1, 1)))\n",
        "    return x"
      ],
      "execution_count": null,
      "outputs": []
    },
    {
      "cell_type": "code",
      "source": [
        "# takes an input, encodes it using an encoder function, then decodes it using a decoder function"
      ],
      "metadata": {
        "id": "5_nf6hDCUdM6"
      },
      "execution_count": null,
      "outputs": []
    },
    {
      "cell_type": "code",
      "metadata": {
        "id": "R8TLNLTkjSxG"
      },
      "source": [
        "def Autoencoder(x,w):\n",
        "    return Decoder(Encoder(x,w),w)"
      ],
      "execution_count": null,
      "outputs": []
    },
    {
      "cell_type": "code",
      "source": [
        "# initializing some variables"
      ],
      "metadata": {
        "id": "j5g61StFSNO2"
      },
      "execution_count": null,
      "outputs": []
    },
    {
      "cell_type": "code",
      "metadata": {
        "id": "-iw6YTpBU8sr"
      },
      "source": [
        "num_steps = 1000\n",
        "batch_size = 512\n",
        "learning_rate = 1e-3"
      ],
      "execution_count": null,
      "outputs": []
    },
    {
      "cell_type": "code",
      "source": [
        "# importing more libraries"
      ],
      "metadata": {
        "id": "wVnqgLK_SMZu"
      },
      "execution_count": null,
      "outputs": []
    },
    {
      "cell_type": "code",
      "source": [
        "from scipy import stats\n",
        "import numpy as np\n",
        "import matplotlib.pyplot as plt\n",
        "import urllib.request\n",
        "from PIL import Image\n",
        "from imageio import *\n",
        "import torch\n",
        "from skimage.transform import resize\n",
        "from mpl_toolkits.axes_grid1.axes_rgb import make_rgb_axes, RGBAxes\n",
        "from torchvision.models import *\n",
        "from torchvision.datasets import MNIST,KMNIST,FashionMNIST\n",
        "from skimage.util import montage"
      ],
      "metadata": {
        "id": "wmj18jh0bJW8"
      },
      "execution_count": null,
      "outputs": []
    },
    {
      "cell_type": "code",
      "source": [
        "# defines a function that generates truncated normal random numbers"
      ],
      "metadata": {
        "id": "dCLbLzDlSEdi"
      },
      "execution_count": null,
      "outputs": []
    },
    {
      "cell_type": "code",
      "source": [
        "def randn_trunc(s): #Truncated Normal Random Numbers\n",
        "    mu = 0\n",
        "    sigma = 0.1\n",
        "    R = stats.truncnorm((-2*sigma - mu) / sigma, (2*sigma - mu) / sigma, loc=mu, scale=sigma)\n",
        "    return R.rvs(s)"
      ],
      "metadata": {
        "id": "3t3l54lzbGSE"
      },
      "execution_count": null,
      "outputs": []
    },
    {
      "cell_type": "code",
      "metadata": {
        "scrolled": true,
        "id": "Au5YND2GU8sr"
      },
      "source": [
        "#Encode\n",
        "w0 = GPU(randn_trunc((64,1,4,4)))\n",
        "w1 = GPU(randn_trunc((128,64,4,4)))\n",
        "w2 = GPU(randn_trunc((10,6272)))\n",
        "#Decode\n",
        "w3 = GPU(randn_trunc((6272,10)))\n",
        "w4 = GPU(randn_trunc((128,64,4,4)))\n",
        "w5 = GPU(randn_trunc((64,1,4,4)))\n",
        "\n",
        "w = [w0,w1,w2,w3,w4,w5]\n",
        "\n",
        "optimizer = torch.optim.Adam(params=w, lr=learning_rate)\n",
        "\n",
        "for i in range(num_steps):\n",
        "\n",
        "    x_real,y = get_batch('train')\n",
        "\n",
        "    x_fake = Autoencoder(x_real,w)\n",
        "\n",
        "    loss = torch.mean((x_fake - x_real)**2)\n",
        "\n",
        "    optimizer.zero_grad()\n",
        "    loss.backward()\n",
        "    optimizer.step()\n",
        "\n",
        "    if i % 100 == 0: print(loss.item())"
      ],
      "execution_count": null,
      "outputs": []
    },
    {
      "cell_type": "code",
      "source": [
        "# retrieves a batch of images and labels from the 'test' dataset and assigns them to 'image_batch' and 'y,' respectively"
      ],
      "metadata": {
        "id": "UVNH0w7WSgrc"
      },
      "execution_count": null,
      "outputs": []
    },
    {
      "cell_type": "code",
      "source": [
        "image_batch,y = get_batch('test')"
      ],
      "metadata": {
        "id": "9KtDnM_cXeJf"
      },
      "execution_count": null,
      "outputs": []
    },
    {
      "cell_type": "code",
      "source": [
        "# passing a batch of images through an autoencoder model and storing the reconstructed images"
      ],
      "metadata": {
        "id": "GBgtsrgTTJNU"
      },
      "execution_count": null,
      "outputs": []
    },
    {
      "cell_type": "code",
      "source": [
        "image_batch_recon = Autoencoder(image_batch,w)"
      ],
      "metadata": {
        "id": "cUHiRtNJXeMM"
      },
      "execution_count": null,
      "outputs": []
    },
    {
      "cell_type": "code",
      "source": [
        "# calculates the mean squared error (MSE) between two batches of images."
      ],
      "metadata": {
        "id": "AGtl6AkYTb7R"
      },
      "execution_count": null,
      "outputs": []
    },
    {
      "cell_type": "code",
      "source": [
        "torch.mean((image_batch_recon - image_batch)**2)"
      ],
      "metadata": {
        "id": "kAvWP-HRXeYy"
      },
      "execution_count": null,
      "outputs": []
    },
    {
      "cell_type": "code",
      "source": [
        "#  selecting the first 25 images from a batch, converting them to NumPy arrays, and then creating a montage plot of these images"
      ],
      "metadata": {
        "id": "VaPXAE6ST7--"
      },
      "execution_count": null,
      "outputs": []
    },
    {
      "cell_type": "code",
      "source": [
        "montage_plot(image_batch[0:25,0,:,:].cpu().detach().numpy())"
      ],
      "metadata": {
        "id": "j9GNtjyxTrLg"
      },
      "execution_count": null,
      "outputs": []
    },
    {
      "cell_type": "code",
      "source": [
        "# takes the first 25 reconstructed images, selects the first channel of each image, converts them to NumPy arrays, and then plots them in a montage"
      ],
      "metadata": {
        "id": "lyPGlsn5T_hD"
      },
      "execution_count": null,
      "outputs": []
    },
    {
      "cell_type": "code",
      "source": [
        "montage_plot(image_batch_recon[0:25,0,:,:].cpu().detach().numpy())"
      ],
      "metadata": {
        "id": "Mc87oPuJYFqx"
      },
      "execution_count": null,
      "outputs": []
    },
    {
      "cell_type": "markdown",
      "source": [
        "\n",
        "### Generator\n",
        "\n"
      ],
      "metadata": {
        "id": "x4_p3zNkNz85"
      }
    },
    {
      "cell_type": "code",
      "source": [
        "# initializing variables"
      ],
      "metadata": {
        "id": "OndxZEOPbAv_"
      },
      "execution_count": null,
      "outputs": []
    },
    {
      "cell_type": "code",
      "metadata": {
        "id": "3KqMhS0SbBZW"
      },
      "source": [
        "latent_size = 64\n",
        "hidden_size = 256\n",
        "image_size = 784\n",
        "b = 1024"
      ],
      "execution_count": null,
      "outputs": []
    },
    {
      "cell_type": "code",
      "metadata": {
        "id": "bqUjdQl3bBZX"
      },
      "source": [
        "#MNIST\n",
        "# train_set = MNIST('./data', train=True, download=True)\n",
        "# test_set = MNIST('./data', train=False, download=True)\n",
        "\n",
        "#KMNIST\n",
        "#train_set = KMNIST('./data', train=True, download=True)\n",
        "#test_set = KMNIST('./data', train=False, download=True)\n",
        "\n",
        "#Fashion MNIST\n",
        "train_set = FashionMNIST('./data', train=True, download=True)\n",
        "test_set = FashionMNIST('./data', train=False, download=True)"
      ],
      "execution_count": null,
      "outputs": []
    },
    {
      "cell_type": "code",
      "source": [
        "# prepares image data from 'train_set' and 'test_set' ensuring they are in the correct format and are normalized"
      ],
      "metadata": {
        "id": "vKSl6bBQUuoL"
      },
      "execution_count": null,
      "outputs": []
    },
    {
      "cell_type": "code",
      "metadata": {
        "id": "zAjtvOD9bBZX"
      },
      "source": [
        "X = train_set.data.numpy()\n",
        "X_test = test_set.data.numpy()\n",
        "Y = train_set.targets.numpy()\n",
        "Y_test = test_set.targets.numpy()\n",
        "X = X[:,None,:,:]/255\n",
        "X_test = X_test[:,None,:,:]/255\n",
        "X = (X - 0.5)/0.5\n",
        "X_test = (X_test - 0.5)/0.5"
      ],
      "execution_count": null,
      "outputs": []
    },
    {
      "cell_type": "code",
      "source": [
        "# utilizing NumPy to filter arrays"
      ],
      "metadata": {
        "id": "rNOiepG7VSmF"
      },
      "execution_count": null,
      "outputs": []
    },
    {
      "cell_type": "code",
      "metadata": {
        "id": "MFT0i09GbBZX"
      },
      "source": [
        "n = 7\n",
        "\n",
        "index = np.where(Y == n)\n",
        "X = X[index]\n",
        "index = np.where(Y_test == n)\n",
        "X_test = X_test[index]"
      ],
      "execution_count": null,
      "outputs": []
    },
    {
      "cell_type": "code",
      "source": [
        "# checking the dimensions of the data arrays"
      ],
      "metadata": {
        "id": "0duUnz00VZbA"
      },
      "execution_count": null,
      "outputs": []
    },
    {
      "cell_type": "code",
      "metadata": {
        "id": "86_6wZZTbBZX"
      },
      "source": [
        "X.shape,Y.shape,X_test.shape,Y_test.shape"
      ],
      "execution_count": null,
      "outputs": []
    },
    {
      "cell_type": "code",
      "metadata": {
        "id": "neg7qmgcbBZX"
      },
      "source": [
        "###################################################"
      ],
      "execution_count": null,
      "outputs": []
    },
    {
      "cell_type": "code",
      "source": [
        "# preparing data for GPU-accelerated computation"
      ],
      "metadata": {
        "id": "jNz_D37_WBfV"
      },
      "execution_count": null,
      "outputs": []
    },
    {
      "cell_type": "code",
      "metadata": {
        "id": "WfVSOFbebBZX"
      },
      "source": [
        "X = GPU_data(X)\n",
        "X_test = GPU_data(X_test)\n",
        "Y = GPU_data(Y)\n",
        "Y_test = GPU_data(Y_test)"
      ],
      "execution_count": null,
      "outputs": []
    },
    {
      "cell_type": "code",
      "source": [
        "# assigns the values returned by the function to the variables 'x' and 'y'"
      ],
      "metadata": {
        "id": "4dzeDr7lWGlO"
      },
      "execution_count": null,
      "outputs": []
    },
    {
      "cell_type": "code",
      "metadata": {
        "id": "dJfJfXm-bBZX"
      },
      "source": [
        "x,y = get_batch('train')"
      ],
      "execution_count": null,
      "outputs": []
    },
    {
      "cell_type": "code",
      "source": [
        "# checks the dimensions of 'x'"
      ],
      "metadata": {
        "id": "eoEkUZ44Wd3J"
      },
      "execution_count": null,
      "outputs": []
    },
    {
      "cell_type": "code",
      "source": [
        "x.shape"
      ],
      "metadata": {
        "id": "Q197FoFQ-yM9"
      },
      "execution_count": null,
      "outputs": []
    },
    {
      "cell_type": "code",
      "source": [
        "# taking the first 25 images from a batch,\n",
        "# extracting their first channel, converting them to NumPy arrays, and then creating a montage plot of these images"
      ],
      "metadata": {
        "id": "hDu0GtTzWoGk"
      },
      "execution_count": null,
      "outputs": []
    },
    {
      "cell_type": "code",
      "metadata": {
        "id": "V51COsfUbBZX"
      },
      "source": [
        "montage_plot(x[0:25,0,:,:].detach().cpu().numpy())"
      ],
      "execution_count": null,
      "outputs": []
    },
    {
      "cell_type": "code",
      "metadata": {
        "id": "z7LYsL5_bBZX"
      },
      "source": [
        "#D\n",
        "w0 = GPU(randn_trunc((64,1,4,4)))\n",
        "w1 = GPU(randn_trunc((128,64,4,4)))\n",
        "w2 = GPU(randn_trunc((1,6272)))\n",
        "#G\n",
        "w3 = GPU(randn_trunc((6272,64)))\n",
        "w4 = GPU(randn_trunc((128,64,4,4)))\n",
        "w5 = GPU(randn_trunc((64,1,4,4)))\n",
        "\n",
        "w = [w0,w1,w2,w3,w4,w5]"
      ],
      "execution_count": null,
      "outputs": []
    },
    {
      "cell_type": "code",
      "source": [
        "# forward pass of a discriminator in a CNN, which takes an input tensor 'x'\n",
        "# and a list of weight tensors 'w', processes the input through convolutional and fully connected layers with ReLU activations,\n",
        "# and outputs a single probability value indicating the likelihood that the input is real or fake"
      ],
      "metadata": {
        "id": "3g4QG1O7Xcma"
      },
      "execution_count": null,
      "outputs": []
    },
    {
      "cell_type": "code",
      "metadata": {
        "id": "UbDVggMGbBZX"
      },
      "source": [
        "def D(x,w):\n",
        "    x = relu(conv2d(x,w[0], stride=(2, 2), padding=(1, 1)))\n",
        "    x = relu(conv2d(x,w[1], stride=(2, 2), padding=(1, 1)))\n",
        "    x = x.view(x.size(0), 6272)\n",
        "    x = linear(x,w[2])\n",
        "    x = torch.sigmoid(x)\n",
        "    return x"
      ],
      "execution_count": null,
      "outputs": []
    },
    {
      "cell_type": "code",
      "source": [
        "# applies transformations to the input 'x' using the given weights 'w', transforming it into a generated output"
      ],
      "metadata": {
        "id": "H5TmfAZmYAkm"
      },
      "execution_count": null,
      "outputs": []
    },
    {
      "cell_type": "code",
      "metadata": {
        "id": "kcOOwwfqbBZX"
      },
      "source": [
        "def G(x,w):\n",
        "    x = linear(x,w[3])\n",
        "    x = x.view(x.size(0), 128, 7, 7)\n",
        "    x = relu(conv_transpose2d(x,w[4], stride=(2, 2), padding=(1, 1)))\n",
        "    x = torch.tanh(conv_transpose2d(x,w[5], stride=(2, 2), padding=(1, 1)))\n",
        "    return x"
      ],
      "execution_count": null,
      "outputs": []
    },
    {
      "cell_type": "code",
      "source": [
        "b = 1024"
      ],
      "metadata": {
        "id": "nLHWIGrF-75j"
      },
      "execution_count": null,
      "outputs": []
    },
    {
      "cell_type": "code",
      "source": [
        "batch_size = b"
      ],
      "metadata": {
        "id": "351S9-Hi-3dd"
      },
      "execution_count": null,
      "outputs": []
    },
    {
      "cell_type": "code",
      "source": [
        "batch_size"
      ],
      "metadata": {
        "id": "iJoxfGJG-5CN"
      },
      "execution_count": null,
      "outputs": []
    },
    {
      "cell_type": "code",
      "source": [
        "# sets up the necessary components for training a GAN in a PyTorch environment,\n",
        "# specifically for discriminator and generator optimization and label handling, while also ensuring compatibility with GPU acceleration"
      ],
      "metadata": {
        "id": "lu_YyzyqYehD"
      },
      "execution_count": null,
      "outputs": []
    },
    {
      "cell_type": "code",
      "metadata": {
        "id": "Md0XK_V0bBZX"
      },
      "source": [
        "d_optimizer = torch.optim.Adam(w[0:3], lr=0.0002)\n",
        "g_optimizer = torch.optim.Adam(w[3:], lr=0.0002)\n",
        "\n",
        "real_labels = (torch.ones(batch_size, 1).cuda())\n",
        "fake_labels = (torch.zeros(batch_size, 1).cuda())"
      ],
      "execution_count": null,
      "outputs": []
    },
    {
      "cell_type": "code",
      "source": [
        "# setting up the training loop by defining the number of epochs, batches, and steps"
      ],
      "metadata": {
        "id": "jxNFvEE9Yz_j"
      },
      "execution_count": null,
      "outputs": []
    },
    {
      "cell_type": "code",
      "metadata": {
        "id": "1qIZIv7-bBZX"
      },
      "source": [
        "num_epochs = 500\n",
        "batches = X.shape[0]//batch_size\n",
        "steps = num_epochs*batches"
      ],
      "execution_count": null,
      "outputs": []
    },
    {
      "cell_type": "code",
      "source": [
        "# creates two tensors filled with random numbers and places them on the GPU if available"
      ],
      "metadata": {
        "id": "hbmESDYsZkCj"
      },
      "execution_count": null,
      "outputs": []
    },
    {
      "cell_type": "code",
      "metadata": {
        "id": "x1da20dlbBZX"
      },
      "source": [
        "z1 = (torch.randn(steps,batch_size,latent_size).cuda())\n",
        "z2 = (torch.randn(steps,batch_size,latent_size).cuda())"
      ],
      "execution_count": null,
      "outputs": []
    },
    {
      "cell_type": "code",
      "source": [
        "# trains the GAN on the provided dataset"
      ],
      "metadata": {
        "id": "jZAQ4nAfaHas"
      },
      "execution_count": null,
      "outputs": []
    },
    {
      "cell_type": "code",
      "metadata": {
        "id": "Xfr-JmZqbBZX"
      },
      "source": [
        "for i in range(steps):\n",
        "\n",
        "    images,y = get_batch('train')\n",
        "\n",
        "    d_loss = binary_cross_entropy(D(images,w), real_labels) + binary_cross_entropy(D(G(z1[i],w),w), fake_labels)\n",
        "    d_optimizer.zero_grad()\n",
        "    d_loss.backward()\n",
        "    d_optimizer.step()\n",
        "\n",
        "\n",
        "    g_loss = binary_cross_entropy(D(G(z2[i],w),w), real_labels)\n",
        "    g_optimizer.zero_grad()\n",
        "    g_loss.backward()\n",
        "    g_optimizer.step()\n",
        "\n",
        "\n",
        "    if i % 200 == 0:\n",
        "        out = G(z1[np.random.randint(steps)],w)\n",
        "        montage_plot(out.view(batch_size,1,28,28).detach().cpu().numpy()[0:25,0,:,:])"
      ],
      "execution_count": null,
      "outputs": []
    },
    {
      "cell_type": "code",
      "source": [],
      "metadata": {
        "id": "Vws7NBXkPm8E"
      },
      "execution_count": null,
      "outputs": []
    },
    {
      "cell_type": "code",
      "source": [
        "# checks the dimensions of the array"
      ],
      "metadata": {
        "id": "bJY1hGOIba67"
      },
      "execution_count": null,
      "outputs": []
    },
    {
      "cell_type": "code",
      "source": [
        "z1[np.random.randint(steps)].shape"
      ],
      "metadata": {
        "id": "A_pN8FvYATEy"
      },
      "execution_count": null,
      "outputs": []
    },
    {
      "cell_type": "code",
      "source": [
        "# generates a tensor of random numbers which has\n",
        "# been reshaped to have dimensions of 1 row and 64 columns. This tensor is then passed to a function or variable"
      ],
      "metadata": {
        "id": "f1n3g8guanVw"
      },
      "execution_count": null,
      "outputs": []
    },
    {
      "cell_type": "code",
      "source": [
        "noise = GPU_data(torch.randn(1,64))"
      ],
      "metadata": {
        "id": "tQAacm6dAVFU"
      },
      "execution_count": null,
      "outputs": []
    },
    {
      "cell_type": "code",
      "source": [
        "# sets the product of a function equal to a variable"
      ],
      "metadata": {
        "id": "dZg6oYuBaoVK"
      },
      "execution_count": null,
      "outputs": []
    },
    {
      "cell_type": "code",
      "metadata": {
        "id": "NBPhGo-mbBZY"
      },
      "source": [
        "output = G(noise,w)"
      ],
      "execution_count": null,
      "outputs": []
    },
    {
      "cell_type": "code",
      "source": [
        "output.shape"
      ],
      "metadata": {
        "id": "J-Ci-ogDAcn0"
      },
      "execution_count": null,
      "outputs": []
    },
    {
      "cell_type": "code",
      "source": [
        "# plots the value of the element located at the first row and first column of the 'output' array."
      ],
      "metadata": {
        "id": "d2zZdhtBapBH"
      },
      "execution_count": null,
      "outputs": []
    },
    {
      "cell_type": "code",
      "source": [
        "plot(output[0,0])"
      ],
      "metadata": {
        "id": "XekLNuxzAieQ"
      },
      "execution_count": null,
      "outputs": []
    }
  ]
}